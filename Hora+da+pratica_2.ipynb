{
  "nbformat": 4,
  "nbformat_minor": 0,
  "metadata": {
    "colab": {
      "provenance": [],
      "collapsed_sections": [
        "Mc-KN0dA0Z83",
        "l5eLWf0W0ikn",
        "tQdX90Ue03c7",
        "gfg-aiip03vC",
        "oadrJbl704MM",
        "3RgyMaan04TD",
        "D9e3FqhO1S3X",
        "sRneWag9PV5Q",
        "BJ1SznEp70d5",
        "2T0jNYZt70aa",
        "H-IV1oAPPSqK",
        "lezGctF07z8i",
        "wwMP-dPU7zxW",
        "9kxyHxUo7zRD",
        "zkUSBTQq8Hxt",
        "yiunIusZ8Huj",
        "z_D_JiLX8Hra",
        "RDRajNkU8N8N",
        "d7fjkne58N21",
        "6wZ85mCsRCV0",
        "Aac17z-18Nwv",
        "DXVzqpN58Ntr",
        "I12VeNPK8Nqb",
        "murIazpQ8Nkv",
        "eRxc2OeX8Nh2",
        "UKATLavs8NfI",
        "n_1SPchw8NdG",
        "H3sTTjqI8Naa",
        "XGePe4GD2I59",
        "AuaWh4-d2Itt",
        "9eGGyCnAJRdQ",
        "mGonEHYCJRdR",
        "UiOZRlqoJRdR",
        "ABv3KObGJRdR",
        "IjkbAfGcJRdS",
        "ODxaTUYmJRdS",
        "LeIbnt8VJRdS",
        "QTwb6QaCJRdT",
        "soJCQVwRJRdT",
        "xrOeLhQkMgeD",
        "JgCOrE_BMgeD",
        "eIXd_z1lMgeD",
        "zrbz3ENlMgeE",
        "G86Z0vD_MgeE",
        "p4nxogpnMgeE",
        "t5OrLxV6MgeE",
        "aSBMzh-AMgeF",
        "nrEwf_1ZMgeF",
        "HRTFFzKIMgeF",
        "6dEXZEwjMlWy",
        "r0RW2Sy_MlWy"
      ],
      "include_colab_link": true
    },
    "kernelspec": {
      "name": "python3",
      "display_name": "Python 3"
    },
    "language_info": {
      "name": "python"
    }
  },
  "cells": [
    {
      "cell_type": "markdown",
      "metadata": {
        "id": "view-in-github",
        "colab_type": "text"
      },
      "source": [
        "<a href=\"https://colab.research.google.com/github/GiseleCp/Jogo-do-numero-secreto/blob/main/Hora%2Bda%2Bpratica_2.ipynb\" target=\"_parent\"><img src=\"https://colab.research.google.com/assets/colab-badge.svg\" alt=\"Open In Colab\"/></a>"
      ]
    },
    {
      "cell_type": "markdown",
      "source": [
        "# Sobre o notebook\n",
        "\n",
        "A \"hora da prática\" é uma atividade do curso de Python para Data Science da Alura que contém diversos desafios envolvendo os aprendizados de cada aula.\n",
        "\n",
        "O notebook \"hora da pratica\" é um notebook construído com espaço para as células dos desafios propostos no curso, com ele você tem espaço para construir e executar suas soluções"
      ],
      "metadata": {
        "id": "_kwAaQ36gLQ1"
      }
    },
    {
      "cell_type": "markdown",
      "source": [
        "## Aula 1 - Introdução ao Python"
      ],
      "metadata": {
        "id": "Mc-KN0dA0Z83"
      }
    },
    {
      "cell_type": "markdown",
      "source": [
        "### Questão 1\n",
        "\n",
        "Imprima a frase `Escola de Dados da Alura!`"
      ],
      "metadata": {
        "id": "l5eLWf0W0ikn"
      }
    },
    {
      "cell_type": "code",
      "source": [
        "print('Escola de Dados da Alura!')"
      ],
      "metadata": {
        "id": "5pllxJ0h0-yA",
        "colab": {
          "base_uri": "https://localhost:8080/"
        },
        "outputId": "3f887d92-0c16-4f2b-feec-64ea9cb7e3c9"
      },
      "execution_count": null,
      "outputs": [
        {
          "output_type": "stream",
          "name": "stdout",
          "text": [
            "Escola de Dados da Alura!\n"
          ]
        }
      ]
    },
    {
      "cell_type": "markdown",
      "source": [
        "### Questão 2\n",
        "Imprima na tela seu nome e seu sobrenome seguindo a estrutura abaixo:\n",
        "```\n",
        "Nome: [seu nome]\n",
        "Sobrenome: [seu sobrenome]\n",
        "```\n"
      ],
      "metadata": {
        "id": "tQdX90Ue03c7"
      }
    },
    {
      "cell_type": "code",
      "source": [
        "print('Nome: Gisele')\n",
        "print('Sobrenome: Pereira')"
      ],
      "metadata": {
        "id": "RVw5iKn20_Ps",
        "colab": {
          "base_uri": "https://localhost:8080/"
        },
        "outputId": "f1b8d6c6-7cfc-413a-e07b-a01d1219c31a"
      },
      "execution_count": null,
      "outputs": [
        {
          "output_type": "stream",
          "name": "stdout",
          "text": [
            "Nome: Gisele\n",
            "Sobrenome: Pereira\n"
          ]
        }
      ]
    },
    {
      "cell_type": "markdown",
      "source": [
        "### Questão 3\n",
        "Imprima o seu primeiro nome letra a letra. Por exemplo, nome é Mirla, então eu obtenho a seguinte saída:\n",
        "```\n",
        "M\n",
        "I\n",
        "R\n",
        "L\n",
        "A\n",
        "```\n"
      ],
      "metadata": {
        "id": "gfg-aiip03vC"
      }
    },
    {
      "cell_type": "code",
      "source": [
        "texto = \"Gisele\"\n",
        "\n",
        "for letra in texto:\n",
        "    print(letra)"
      ],
      "metadata": {
        "id": "v5bkrgf60_qx",
        "colab": {
          "base_uri": "https://localhost:8080/"
        },
        "outputId": "53f4d5d0-94f4-4e86-8d18-a0191527972d"
      },
      "execution_count": null,
      "outputs": [
        {
          "output_type": "stream",
          "name": "stdout",
          "text": [
            "G\n",
            "i\n",
            "s\n",
            "e\n",
            "l\n",
            "e\n"
          ]
        }
      ]
    },
    {
      "cell_type": "markdown",
      "source": [
        "### Questão 4\n",
        "Imprima o dia do seu nascimento em formato `dia mês ano`. Os valores de dia e ano não podem estar entre aspas. O formato deve estar como no exemplo, supondo uma data de aniversário dia 28 de fevereiro de 2003:\n",
        "```\n",
        "28 fevereiro 2003\n",
        "```"
      ],
      "metadata": {
        "id": "oadrJbl704MM"
      }
    },
    {
      "cell_type": "code",
      "source": [
        "dia = 5\n",
        "ano = 1980\n",
        "print(dia,' maio ', ano)"
      ],
      "metadata": {
        "id": "cx0KSsrq1ALD",
        "colab": {
          "base_uri": "https://localhost:8080/"
        },
        "outputId": "fe77994a-507f-41e9-8d0a-3ca0fecf878c"
      },
      "execution_count": null,
      "outputs": [
        {
          "output_type": "stream",
          "name": "stdout",
          "text": [
            "5  maio  1980\n"
          ]
        }
      ]
    },
    {
      "cell_type": "markdown",
      "source": [
        "### Questão 5\n",
        "Imprima em um único print o atual ano que você está fazendo esse curso, o valor do ano deve ser um dado numérico. A saída do print deve ser a seguinte:\n",
        "```\n",
        "Ano atual: [ano]\n",
        "```\n"
      ],
      "metadata": {
        "id": "3RgyMaan04TD"
      }
    },
    {
      "cell_type": "code",
      "execution_count": null,
      "metadata": {
        "id": "UN77EfQ2d36Y",
        "colab": {
          "base_uri": "https://localhost:8080/"
        },
        "outputId": "07bdfb97-9806-4ead-b937-d9546585ed5f"
      },
      "outputs": [
        {
          "output_type": "stream",
          "name": "stdout",
          "text": [
            "Data atual: 10/04/2025\n"
          ]
        }
      ],
      "source": [
        "from datetime import date\n",
        "\n",
        "data_atual = date.today()\n",
        "print(\"Data atual:\", data_atual.strftime(\"%d/%m/%Y\"))"
      ]
    },
    {
      "cell_type": "markdown",
      "source": [
        "## Aula 2 - Manipulando dados no Python"
      ],
      "metadata": {
        "id": "D9e3FqhO1S3X"
      }
    },
    {
      "cell_type": "markdown",
      "source": [
        "### Coleta e amostragem de dados"
      ],
      "metadata": {
        "id": "n6o7C1Ze2cRe"
      }
    },
    {
      "cell_type": "markdown",
      "source": [
        "#### Questão 1\n",
        "Crie um programa que solicite à pessoa usuária digitar seu nome, e imprima “Olá, [nome]!”."
      ],
      "metadata": {
        "id": "sRneWag9PV5Q"
      }
    },
    {
      "cell_type": "code",
      "source": [
        "nome = input('Digite o seu nome: ')\n",
        "print(f'Olá, {nome}')"
      ],
      "metadata": {
        "id": "dbX1fKqy2HnE",
        "colab": {
          "base_uri": "https://localhost:8080/"
        },
        "outputId": "9a8d0df4-d6bc-4526-954b-3959e26dc8d3"
      },
      "execution_count": null,
      "outputs": [
        {
          "output_type": "stream",
          "name": "stdout",
          "text": [
            "Digite o seu nome: Gisele\n",
            "Olá, Gisele\n"
          ]
        }
      ]
    },
    {
      "cell_type": "markdown",
      "source": [
        "#### Questão 2\n",
        "Crie um programa que solicite à pessoa usuária digitar seu nome e idade, e imprima “Olá, [nome], você tem [idade] anos.”."
      ],
      "metadata": {
        "id": "BJ1SznEp70d5"
      }
    },
    {
      "cell_type": "code",
      "source": [
        "nomeUsuario = input('Digite seu nome: ')\n",
        "idadeUsuario = int(input('Informe a sua idade: '))\n",
        "print('Olá, %s, você tem %d anos' %(nomeUsuario,idadeUsuario))"
      ],
      "metadata": {
        "id": "jKz-0Sq8PFkp",
        "colab": {
          "base_uri": "https://localhost:8080/"
        },
        "outputId": "07cf7962-a54a-490d-fa14-44340bf0a029"
      },
      "execution_count": null,
      "outputs": [
        {
          "output_type": "stream",
          "name": "stdout",
          "text": [
            "Digite seu nome: Gisele\n",
            "Informe a sua idade: 45\n",
            "Olá, Gisele, você tem 45 anos\n"
          ]
        }
      ]
    },
    {
      "cell_type": "markdown",
      "source": [
        "#### Questão 3\n",
        "Crie um programa que solicite à pessoa usuária digitar seu nome, idade e altura em metros, e imprima “Olá, [nome], você tem [idade] anos e mede [altura] metros!”."
      ],
      "metadata": {
        "id": "2T0jNYZt70aa"
      }
    },
    {
      "cell_type": "code",
      "source": [
        "nomeUsuario = input('Digite seu nome: ')\n",
        "idadeUsuario = int(input('Informe a sua idade: '))\n",
        "alturausuario = float(input('Informe a sua altura: '))\n",
        "print(f'Olá, {nomeUsuario}')\n",
        "print('Olá %s, você tem %d anos e %.2f metros' %(nomeUsuario,idadeUsuario,alturausuario))"
      ],
      "metadata": {
        "id": "pI4kHNzTPIXh",
        "colab": {
          "base_uri": "https://localhost:8080/"
        },
        "outputId": "92706dfa-afe2-489d-e94e-034c3de66641"
      },
      "execution_count": null,
      "outputs": [
        {
          "output_type": "stream",
          "name": "stdout",
          "text": [
            "Digite seu nome: Gisele\n",
            "Informe a sua idade: 45\n",
            "Informe a sua altura: 1.70\n",
            "Olá, Gisele\n",
            "Olá Gisele, você tem 45 anos e 1.70 metros\n"
          ]
        }
      ]
    },
    {
      "cell_type": "markdown",
      "source": [
        "### Calculadora com operadores"
      ],
      "metadata": {
        "id": "mEBFwKkC70KP"
      }
    },
    {
      "cell_type": "markdown",
      "source": [
        "#### Questão 1\n",
        "\n",
        "Crie um programa que solicite dois valores numéricos à pessoa usuária e imprima a soma dos dois valores."
      ],
      "metadata": {
        "id": "H-IV1oAPPSqK"
      }
    },
    {
      "cell_type": "code",
      "source": [
        "valor1 = int(input('Digite o primeiro valor: '))\n",
        "valor2 = int(input('Digite o segundo valor diferente de zero: '))\n",
        "calcsoma = valor1 + valor2\n",
        "print(f'A soma dos 2 valores é {calcsoma}')"
      ],
      "metadata": {
        "id": "Zb0W84sy8rnp",
        "colab": {
          "base_uri": "https://localhost:8080/"
        },
        "outputId": "5357b38a-0258-41e3-808a-a1f4ae24d1f4"
      },
      "execution_count": null,
      "outputs": [
        {
          "output_type": "stream",
          "name": "stdout",
          "text": [
            "Digite o primeiro valor: 5\n",
            "Digite o segundo valor diferente de zero: 3\n",
            "A soma dos 2 valores é 8\n"
          ]
        }
      ]
    },
    {
      "cell_type": "markdown",
      "source": [
        "#### Questão 3\n",
        "Crie um programa que solicite dois valores numéricos à pessoa usuária e imprima a subtração do primeiro pelo o segundo valor."
      ],
      "metadata": {
        "id": "lezGctF07z8i"
      }
    },
    {
      "cell_type": "code",
      "source": [
        "valor1 = int(input('Digite o primeiro valor: '))\n",
        "valor2 = int(input('Digite o segundo valor diferente de zero: '))\n",
        "calcsubtrai = valor1 - valor2\n",
        "print('A subtração do primeiro e segundo valor é {}' .format(calcsubtrai))"
      ],
      "metadata": {
        "id": "k0GE1z4w8p3J",
        "colab": {
          "base_uri": "https://localhost:8080/"
        },
        "outputId": "4e3a7fac-4f7b-40e7-f23d-b2e5edb6bb40"
      },
      "execution_count": null,
      "outputs": [
        {
          "output_type": "stream",
          "name": "stdout",
          "text": [
            "Digite o primeiro valor: 20\n",
            "Digite o segundo valor diferente de zero: 30\n",
            "A subtração do primeiro e segundo valor é -10\n"
          ]
        }
      ]
    },
    {
      "cell_type": "markdown",
      "source": [
        "#### Questão 4\n",
        "\n",
        "Crie um programa que solicite dois valores numéricos à pessoa usuária e imprima a multiplicação dos dois valores.\n"
      ],
      "metadata": {
        "id": "wwMP-dPU7zxW"
      }
    },
    {
      "cell_type": "code",
      "source": [
        "valor1 = int(input('Digite o primeiro valor: '))\n",
        "valor2 = int(input('Digite o segundo valor diferente de zero: '))\n",
        "calcmultiplica = valor1 * valor2\n",
        "print('A multiplicação do segundo e terceiro valor é {}' .format(calcmultiplica))"
      ],
      "metadata": {
        "id": "GzFCVHfp8peZ",
        "colab": {
          "base_uri": "https://localhost:8080/"
        },
        "outputId": "d782c8d0-b206-4769-937a-116d5dee2994"
      },
      "execution_count": null,
      "outputs": [
        {
          "output_type": "stream",
          "name": "stdout",
          "text": [
            "Digite o primeiro valor: 5\n",
            "Digite o segundo valor diferente de zero: 3\n",
            "A multiplicação do segundo e terceiro valor é 15\n"
          ]
        }
      ]
    },
    {
      "cell_type": "markdown",
      "source": [
        "#### Questão 5\n",
        "\n",
        "Crie um programa que solicite dois valores numéricos, um numerador e um denominador, e realize a divisão entre os dois valores. Deixe claro que o valor do denominador não pode ser `0`.\n"
      ],
      "metadata": {
        "id": "9kxyHxUo7zRD"
      }
    },
    {
      "cell_type": "code",
      "source": [
        "valor1 = int(input('Digite o primeiro valor: '))\n",
        "valor2 = int(input('Digite o segundo valor diferente de zero: '))\n",
        "calcdivide = valor1 // valor2\n",
        "print('A divisão (inteira) do primeiro e segundo valor é {}' .format(calcdivide))"
      ],
      "metadata": {
        "id": "ytJ8l5KH8ozc",
        "colab": {
          "base_uri": "https://localhost:8080/"
        },
        "outputId": "d099447a-9d32-47a3-9c8e-2cd586ae5c2b"
      },
      "execution_count": null,
      "outputs": [
        {
          "output_type": "stream",
          "name": "stdout",
          "text": [
            "Digite o primeiro valor: 15\n",
            "Digite o segundo valor diferente de zero: 3\n",
            "A divisão (inteira) do primeiro e segundo valor é 5\n"
          ]
        }
      ]
    },
    {
      "cell_type": "markdown",
      "source": [
        "#### Questão 6\n",
        "\n",
        "Crie um programa que solicite dois valores numéricos, um operador e uma potência, e realize a exponenciação entre esses dois valores.\n"
      ],
      "metadata": {
        "id": "zkUSBTQq8Hxt"
      }
    },
    {
      "cell_type": "code",
      "source": [
        "valor1 = int(input('Digite o primeiro valor: '))\n",
        "potencia = int(input('Digite o valor para calcular a potência: '))\n",
        "calcexponencia = valor1 ** potencia\n",
        "print('A exponenciação do terceiro valor é {}' .format(calcexponencia))"
      ],
      "metadata": {
        "id": "RPj36jq08oZp",
        "colab": {
          "base_uri": "https://localhost:8080/"
        },
        "outputId": "2659d411-659c-4d4a-e47f-1517eb1f9b20"
      },
      "execution_count": null,
      "outputs": [
        {
          "output_type": "stream",
          "name": "stdout",
          "text": [
            "Digite o primeiro valor: 5\n",
            "Digite o valor para calcular a potência: 2\n",
            "A exponenciação do terceiro valor é 25\n"
          ]
        }
      ]
    },
    {
      "cell_type": "markdown",
      "source": [
        "#### Questão 7\n",
        "Crie um programa que solicite dois valores numéricos, um numerador e um denominador e realize a divisão inteira entre os dois valores. Deixe claro que o valor do denominador não pode ser `0`."
      ],
      "metadata": {
        "id": "yiunIusZ8Huj"
      }
    },
    {
      "cell_type": "code",
      "source": [
        "valor1 = int(input('Digite o primeiro valor: '))\n",
        "valor2 = int(input('Digite o segundo valor diferente de zero: '))\n",
        "calcint = valor1 // valor2\n",
        "print('O valor inteiro da divisão do primeiro e segundo valor é {}' .format(calcint))"
      ],
      "metadata": {
        "id": "UHK8xITf8oCg",
        "colab": {
          "base_uri": "https://localhost:8080/"
        },
        "outputId": "e7ce7b89-23b2-4a3b-e40a-71e0be78776c"
      },
      "execution_count": null,
      "outputs": [
        {
          "output_type": "stream",
          "name": "stdout",
          "text": [
            "Digite o primeiro valor: 7\n",
            "Digite o segundo valor diferente de zero: 2\n",
            "O valor inteiro da divisão do primeiro e segundo valor é 3\n"
          ]
        }
      ]
    },
    {
      "cell_type": "markdown",
      "source": [
        "#### Questão 8\n",
        "\n",
        "Crie um programa que solicite dois valores numéricos, um numerador e um denominador, e retorne o resto da divisão entre os dois valores. Deixe claro que o valor do denominador não pode ser `0`."
      ],
      "metadata": {
        "id": "z_D_JiLX8Hra"
      }
    },
    {
      "cell_type": "code",
      "source": [
        "valor1 = int(input('Digite o primeiro valor: '))\n",
        "valor2 = int(input('Digite o segundo valor diferente de zero: '))\n",
        "calcresto = valor1 % valor2\n",
        "print('O resto da divisão do primeiro e segundo valor é {}' .format(calcresto))"
      ],
      "metadata": {
        "id": "EWGJeukO8nqx",
        "colab": {
          "base_uri": "https://localhost:8080/"
        },
        "outputId": "9eadf212-d1ba-4720-e76a-6bcda2ef5804"
      },
      "execution_count": null,
      "outputs": [
        {
          "output_type": "stream",
          "name": "stdout",
          "text": [
            "Digite o primeiro valor: 7\n",
            "Digite o segundo valor diferente de zero: 2\n",
            "O resto da divisão do primeiro e segundo valor é 1\n"
          ]
        }
      ]
    },
    {
      "cell_type": "markdown",
      "source": [
        "#### Questão 9\n",
        "\n",
        "Crie um código que solicita 3 notas de um estudante e imprima a média das notas."
      ],
      "metadata": {
        "id": "RDRajNkU8N8N"
      }
    },
    {
      "cell_type": "code",
      "source": [
        "valor1 = float(input('Digite a primeira nota: '))\n",
        "valor2 = float(input('Digite a segunda nota: '))\n",
        "valor3 = float(input('Digite a terceira nota: '))\n",
        "\n",
        "calcmedia = (valor1 + valor2 + valor3)/3\n",
        "\n",
        "print('O cálculo da média dos 3 valores é {}' .format(calcmedia))"
      ],
      "metadata": {
        "id": "H6F4Ojzt8nSR",
        "colab": {
          "base_uri": "https://localhost:8080/"
        },
        "outputId": "4adaf397-9f97-42e6-f73d-f7b35a9bfc13"
      },
      "execution_count": null,
      "outputs": [
        {
          "output_type": "stream",
          "name": "stdout",
          "text": [
            "Digite a primeira nota: 7\n",
            "Digite a segunda nota: 7.5\n",
            "Digite a terceira nota: 8\n",
            "O cálculo da média dos 3 valores é 7.5\n"
          ]
        }
      ]
    },
    {
      "cell_type": "markdown",
      "source": [
        "#### Questão 10\n",
        "\n",
        "Crie um código que calcule e imprima a média ponderada dos números 5, 12, 20 e 15 com pesos respectivamente iguais a 1, 2, 3 e 4."
      ],
      "metadata": {
        "id": "d7fjkne58N21"
      }
    },
    {
      "cell_type": "code",
      "source": [
        "calcmediaponderada = (5*1 + 12*2 + 20*3 + 15*4)/(1+2+3+4)\n",
        "print('\\nO cálculo da média ponderada de 5, 12, 20 e 15 com pesos 1, 2, 3, 4 é {}' .format(calcmediaponderada))"
      ],
      "metadata": {
        "id": "fwjoHlV48mkv",
        "colab": {
          "base_uri": "https://localhost:8080/"
        },
        "outputId": "1cf6624e-b83b-40c9-e7dc-826caaf6db73"
      },
      "execution_count": null,
      "outputs": [
        {
          "output_type": "stream",
          "name": "stdout",
          "text": [
            "\n",
            "O cálculo da média ponderada de 5, 12, 20 e 15 com pesos 1, 2, 3, 4 é 14.9\n"
          ]
        }
      ]
    },
    {
      "cell_type": "markdown",
      "source": [
        "### Editando textos"
      ],
      "metadata": {
        "id": "GNmbX1OU8N0V"
      }
    },
    {
      "cell_type": "markdown",
      "source": [
        "#### Questão 1\n",
        "\n",
        "Crie uma variável chamada “`frase`” e atribua a ela uma string de sua escolha. Em seguida, imprima a frase na tela."
      ],
      "metadata": {
        "id": "6wZ85mCsRCV0"
      }
    },
    {
      "cell_type": "code",
      "source": [
        "frase = 'Criando uma frase e imprimindo na tela'\n",
        "print(frase)"
      ],
      "metadata": {
        "id": "eRqr_gh-8mFy",
        "colab": {
          "base_uri": "https://localhost:8080/"
        },
        "outputId": "5a7a386d-b626-4911-b207-88de19d93299"
      },
      "execution_count": null,
      "outputs": [
        {
          "output_type": "stream",
          "name": "stdout",
          "text": [
            "Criando uma frase e imprimindo na tela\n"
          ]
        }
      ]
    },
    {
      "cell_type": "markdown",
      "source": [
        "#### Questão 2\n",
        "Crie um código que solicite uma frase e depois imprima a frase na tela."
      ],
      "metadata": {
        "id": "Aac17z-18Nwv"
      }
    },
    {
      "cell_type": "code",
      "source": [
        "frase = input('Digite uma frase: ')\n",
        "print(frase)"
      ],
      "metadata": {
        "id": "8zfE2hh98lb0",
        "colab": {
          "base_uri": "https://localhost:8080/"
        },
        "outputId": "b6dc527a-5312-42c7-e839-ed168d9d3b33"
      },
      "execution_count": null,
      "outputs": [
        {
          "output_type": "stream",
          "name": "stdout",
          "text": [
            "Digite uma frase: Digitei uma frase para impressão\n",
            "Digitei uma frase para impressão\n"
          ]
        }
      ]
    },
    {
      "cell_type": "markdown",
      "source": [
        "#### Questão 3\n",
        "\n",
        "Crie um código que solicite uma frase à pessoa usuária e imprima a mesma frase digitada mas com todas as letras maiúsculas."
      ],
      "metadata": {
        "id": "DXVzqpN58Ntr"
      }
    },
    {
      "cell_type": "code",
      "source": [
        "frase = input('Digite uma frase: ')\n",
        "print(frase.upper())"
      ],
      "metadata": {
        "id": "d0VzoYP68k-I",
        "colab": {
          "base_uri": "https://localhost:8080/"
        },
        "outputId": "410a7f09-a034-4b72-e6d8-255e33f77d2b"
      },
      "execution_count": null,
      "outputs": [
        {
          "output_type": "stream",
          "name": "stdout",
          "text": [
            "Digite uma frase: digitando uma frase em letras minusculas para conversao\n",
            "DIGITANDO UMA FRASE EM LETRAS MINUSCULAS PARA CONVERSAO\n"
          ]
        }
      ]
    },
    {
      "cell_type": "markdown",
      "source": [
        "#### Questão 4\n",
        "\n",
        "Crie um código que solicite uma frase à pessoa usuária e imprima a mesma frase digitada mas com todas as letras minúsculas."
      ],
      "metadata": {
        "id": "I12VeNPK8Nqb"
      }
    },
    {
      "cell_type": "code",
      "source": [
        "frase2 = input('Digite uma frase: ')\n",
        "print(frase2.lower())"
      ],
      "metadata": {
        "id": "KD8rNy2K8kox",
        "colab": {
          "base_uri": "https://localhost:8080/"
        },
        "outputId": "ec0f65b4-57da-4251-adb0-ac26916f3752"
      },
      "execution_count": null,
      "outputs": [
        {
          "output_type": "stream",
          "name": "stdout",
          "text": [
            "Digite uma frase: DIGITANDO UMA FRASE EM LETRAS MAIUSCULAS PARA CONVERSÃO\n",
            "digitando uma frase em letras maiusculas para conversão\n"
          ]
        }
      ]
    },
    {
      "cell_type": "markdown",
      "source": [
        "#### Questão 5\n",
        "\n",
        "Crie uma variável chamada “`frase`” e atribua a ela uma string de sua escolha. Em seguida, imprima a frase sem espaços em branco no início e no fim."
      ],
      "metadata": {
        "id": "cRqngSE48Nog"
      }
    },
    {
      "cell_type": "code",
      "source": [
        "frase_sem_esp = ' eliminando os espaços no inicio e fim. '\n",
        "print(frase_sem_esp.strip())"
      ],
      "metadata": {
        "id": "aSCpdF-o8kBs",
        "colab": {
          "base_uri": "https://localhost:8080/"
        },
        "outputId": "230396a5-a755-441a-c7c8-e46f6a45b5a3"
      },
      "execution_count": null,
      "outputs": [
        {
          "output_type": "stream",
          "name": "stdout",
          "text": [
            "eliminando os espaços no inicio e fim.\n"
          ]
        }
      ]
    },
    {
      "cell_type": "markdown",
      "source": [
        "#### Questão 6\n",
        "\n",
        "Crie um código que solicite uma frase à pessoa usuária e imprima a mesma frase sem espaços em branco no início e no fim."
      ],
      "metadata": {
        "id": "murIazpQ8Nkv"
      }
    },
    {
      "cell_type": "code",
      "source": [
        "frase = input('Digite uma frase: ')\n",
        "print(frase.strip())"
      ],
      "metadata": {
        "id": "tHunjwuG8jNq",
        "colab": {
          "base_uri": "https://localhost:8080/"
        },
        "outputId": "98217732-55ac-4d51-b386-d50cebf41732"
      },
      "execution_count": null,
      "outputs": [
        {
          "output_type": "stream",
          "name": "stdout",
          "text": [
            "Digite uma frase:  texto sem esoaçoc   \n",
            "texto sem esoaçoc\n"
          ]
        }
      ]
    },
    {
      "cell_type": "markdown",
      "source": [
        "#### Questão 7\n",
        "\n",
        "\n",
        "Crie um código que solicite uma frase à pessoa usuária e imprima a mesma frase sem espaços em branco no início e no fim e em letras minúsculas."
      ],
      "metadata": {
        "id": "eRxc2OeX8Nh2"
      }
    },
    {
      "cell_type": "code",
      "source": [
        "frase_sem_esp = ' Testando a elinimação dos espaços no inicio e fim. '\n",
        "print(frase_sem_esp.strip().upper())"
      ],
      "metadata": {
        "id": "DYm0_UwS8ih6",
        "colab": {
          "base_uri": "https://localhost:8080/"
        },
        "outputId": "783119e0-6c7b-4e92-bfca-e886129d6047"
      },
      "execution_count": null,
      "outputs": [
        {
          "output_type": "stream",
          "name": "stdout",
          "text": [
            "TESTANDO A ELINIMAÇÃO DOS ESPAÇOS NO INICIO E FIM.\n"
          ]
        }
      ]
    },
    {
      "cell_type": "markdown",
      "source": [
        "#### Questão 8\n",
        "\n",
        "Crie um código que solicite uma frase à pessoa usuária e imprima a mesma frase com todas as vogais “`e`” trocadas pela letra “`f`”."
      ],
      "metadata": {
        "id": "UKATLavs8NfI"
      }
    },
    {
      "cell_type": "code",
      "source": [
        "frase_sem_esp = ' Testando a elinimação dos espaços no inicio e fim. '\n",
        "print(frase_sem_esp.strip().replace('e','f'))"
      ],
      "metadata": {
        "id": "k64C5G5S8iLO",
        "colab": {
          "base_uri": "https://localhost:8080/"
        },
        "outputId": "dae3ff1b-25b7-4173-9eb9-a3c76d9cb9b9"
      },
      "execution_count": null,
      "outputs": [
        {
          "output_type": "stream",
          "name": "stdout",
          "text": [
            "Tfstando a flinimação dos fspaços no inicio f fim.\n"
          ]
        }
      ]
    },
    {
      "cell_type": "markdown",
      "source": [
        "#### Questão 9\n",
        "\n",
        "\n",
        "Crie um código que solicite uma frase à pessoa usuária e imprima a mesma frase com todas as vogais “`a`” trocadas pela caractere  “`@`”."
      ],
      "metadata": {
        "id": "n_1SPchw8NdG"
      }
    },
    {
      "cell_type": "code",
      "source": [
        "frase_sem_esp = ' Testando a elinimação dos espaços no inicio e fim. '\n",
        "print(frase_sem_esp.strip().replace('a','@'))"
      ],
      "metadata": {
        "id": "msaDNm_p8h0D",
        "colab": {
          "base_uri": "https://localhost:8080/"
        },
        "outputId": "53ee59d2-4677-4631-d851-b01482e64000"
      },
      "execution_count": null,
      "outputs": [
        {
          "output_type": "stream",
          "name": "stdout",
          "text": [
            "Test@ndo @ elinim@ção dos esp@ços no inicio e fim.\n"
          ]
        }
      ]
    },
    {
      "cell_type": "markdown",
      "source": [
        "#### Questão 10\n",
        "\n",
        "\n",
        "Crie um código que solicite uma frase à pessoa usuária e imprima a mesma frase com todas as consoantes “`s`” trocadas pelo caractere  “`$`”."
      ],
      "metadata": {
        "id": "H3sTTjqI8Naa"
      }
    },
    {
      "cell_type": "code",
      "source": [
        "frase_sem_esp = ' Testando a elinimação dos espaços no inicio e fim. '\n",
        "print(frase_sem_esp.strip().replace('s','$'))"
      ],
      "metadata": {
        "id": "RPBIsWT68e-1",
        "colab": {
          "base_uri": "https://localhost:8080/"
        },
        "outputId": "6ebc96a2-16a4-4bb4-aa7e-e10f2cae7379"
      },
      "execution_count": null,
      "outputs": [
        {
          "output_type": "stream",
          "name": "stdout",
          "text": [
            "Te$tando a elinimação do$ e$paço$ no inicio e fim.\n"
          ]
        }
      ]
    },
    {
      "cell_type": "markdown",
      "source": [
        "## Aula 3 - Estruturas condicionais"
      ],
      "metadata": {
        "id": "XGePe4GD2I59"
      }
    },
    {
      "cell_type": "markdown",
      "source": [
        "### Aquecendo na programação"
      ],
      "metadata": {
        "id": "Pr9HTW0UHCdD"
      }
    },
    {
      "cell_type": "markdown",
      "source": [
        "#### Questão 1\n",
        "Escreva um programa que peça à pessoa usuária para fornecer dois números e exibir o número maior."
      ],
      "metadata": {
        "id": "xBZHqhVg80Fy"
      }
    },
    {
      "cell_type": "code",
      "source": [
        "num1 = float(input('Digite o primeiro número: '))\n",
        "num2 = float(input('Digite o segundo número: '))\n",
        "\n",
        "if num1 > num2:\n",
        "    print(f'O primeiro ({num1}) número é maior')\n",
        "elif num2 > num1:\n",
        "    print(f'O segundo ({num2}) número é maior')\n",
        "else:\n",
        "    print('Os números são iguais')"
      ],
      "metadata": {
        "id": "GJlGnzjc-xyF",
        "colab": {
          "base_uri": "https://localhost:8080/"
        },
        "outputId": "e0613070-be0f-46aa-ae44-e6dca5b7a751"
      },
      "execution_count": null,
      "outputs": [
        {
          "output_type": "stream",
          "name": "stdout",
          "text": [
            "Digite o primeiro número: 8\n",
            "Digite o segundo número: 9\n",
            "O segundo (9.0) número é maior\n"
          ]
        }
      ]
    },
    {
      "cell_type": "markdown",
      "source": [
        "#### Questão 2\n",
        "Escreva um programa que solicite o percentual de crescimento de produção de uma empresa e informe se houve um crescimento (porcentagem positiva) ou decrescimento (porcentagem negativa)."
      ],
      "metadata": {
        "id": "H4sgN7dyHNJF"
      }
    },
    {
      "cell_type": "code",
      "source": [
        "variacao = float(input('Digite o percentual de crescimento de produção da empresa: '))\n",
        "if variacao > 0:\n",
        "  print(f'Crescimento positivo - variação de {variacao}%')\n",
        "elif variacao < 0:\n",
        "  print(f'Crescimento negativo - variação de {variacao}%')\n",
        "else:\n",
        "  print(f'Crescimento nulo')"
      ],
      "metadata": {
        "id": "-2_Ry5XJ-yZW",
        "colab": {
          "base_uri": "https://localhost:8080/"
        },
        "outputId": "ea7aa660-3fdb-41a1-e61f-ea12e9c6d8bc"
      },
      "execution_count": null,
      "outputs": [
        {
          "output_type": "stream",
          "name": "stdout",
          "text": [
            "Digite o percentual de crescimento de produção da empresa: 50\n",
            "Crescimento positivo - variação de 50.0%\n"
          ]
        }
      ]
    },
    {
      "cell_type": "markdown",
      "source": [
        "#### Questão 3\n",
        "Escreva um programa que determine se uma letra fornecida pela pessoa usuária é uma vogal ou consoante."
      ],
      "metadata": {
        "id": "a_mzNOBDHNny"
      }
    },
    {
      "cell_type": "code",
      "source": [
        "letra = str(input('Digite uma letra: ').lower())\n",
        "vogais = 'aeiou'\n",
        "if letra in vogais:\n",
        "  print(f'A letra {letra} é uma vogal')\n",
        "else:\n",
        "  print(f'A letra {letra} é uma consoante')"
      ],
      "metadata": {
        "id": "NbgndVyg-zFJ",
        "colab": {
          "base_uri": "https://localhost:8080/"
        },
        "outputId": "3e29dfaf-d9ae-4dbf-fa0e-5dc3daef41ac"
      },
      "execution_count": null,
      "outputs": [
        {
          "output_type": "stream",
          "name": "stdout",
          "text": [
            "Digite uma letra: d\n",
            "A letra d é uma consoante\n"
          ]
        }
      ]
    },
    {
      "cell_type": "markdown",
      "source": [
        "#### Questão 4\n",
        "Escreva um programa que leia valores médios de preços de um modelo de carro por 3 anos consecutivos e exiba o valor mais alto e mais baixo entre esses três anos."
      ],
      "metadata": {
        "id": "mofMRjSZHP99"
      }
    },
    {
      "cell_type": "code",
      "source": [
        "v1 = float(input('Digite o valor do carro no ano 1: '))\n",
        "v2 = float(input('Digite o valor do carro no ano 2: '))\n",
        "v3 = float(input('Digite o valor do carro no ano 3: '))\n",
        "valor_ordem = sorted([v1,v2,v3])\n",
        "print(f'O preço mais barato é {valor_ordem[0]}')\n",
        "print(f'O preço mais caro é {valor_ordem[2]}')"
      ],
      "metadata": {
        "id": "TX--d3k9-02c",
        "colab": {
          "base_uri": "https://localhost:8080/"
        },
        "outputId": "76a5f392-6faa-4ff8-a9d5-23e4af2feaa0"
      },
      "execution_count": null,
      "outputs": [
        {
          "output_type": "stream",
          "name": "stdout",
          "text": [
            "Digite o valor do carro no ano 1: 52000\n",
            "Digite o valor do carro no ano 2: 60000\n",
            "Digite o valor do carro no ano 3: 55000\n",
            "O preço mais barato é 52000.0\n",
            "O preço mais caro é 60000.0\n"
          ]
        }
      ]
    },
    {
      "cell_type": "markdown",
      "source": [
        "#### Questão 5\n",
        "Escreva um programa que pergunte sobre o preço de três produtos e indique qual é o produto mais barato para comprar."
      ],
      "metadata": {
        "id": "jY5tIwd-HQzc"
      }
    },
    {
      "cell_type": "code",
      "source": [
        "p1 = float(input('Digite o preço do produto 1: '))\n",
        "p2 = float(input('Digite o preço do produto 2: '))\n",
        "p3 = float(input('Digite o preço do produto 3: '))\n",
        "if p1 < p2 and p1 < p3:\n",
        "  print('O produto 1 é mais barato')\n",
        "elif p2 < p1 and p2 < p3:\n",
        "  print('O produto 2 é mais barato')\n",
        "elif p3 < p1 and p3 < p2:\n",
        "  print('O produto 3 é mais barato')\n",
        "elif p1 == p2 == p3:\n",
        "  print('O preço dos 3 produtos é o mesmo')\n",
        "else: #verifica se tem 2 produtos iguais\n",
        "  if p1 == p2:\n",
        "      print('O produto 1 e produto 2 são mais baratos')\n",
        "  elif p1 == p3:\n",
        "      print('O produto 1 e produto 3 são mais baratos')\n",
        "  elif p2 == p3:\n",
        "      print('O produto 2 e produto 3 são mais baratos')"
      ],
      "metadata": {
        "id": "sYqNh9df-0gk",
        "colab": {
          "base_uri": "https://localhost:8080/"
        },
        "outputId": "f2fc390d-2ce5-404c-f95d-dc557ec90bc3"
      },
      "execution_count": null,
      "outputs": [
        {
          "output_type": "stream",
          "name": "stdout",
          "text": [
            "Digite o preço do produto 1: 25\n",
            "Digite o preço do produto 2: 25\n",
            "Digite o preço do produto 3: 30\n",
            "O produto 1 e produto 2 são mais baratos\n"
          ]
        }
      ]
    },
    {
      "cell_type": "markdown",
      "source": [
        "#### Questão 6\n",
        "Escreva um programa que leia três números e os exiba em ordem decrescente."
      ],
      "metadata": {
        "id": "1r6aVxtTHR4E"
      }
    },
    {
      "cell_type": "code",
      "source": [
        "val1 = float(input('Digite o primeiro número: '))\n",
        "val2 = float(input('Digite o segundo número: '))\n",
        "val3 = float(input('Digite o terceiro número: '))\n",
        "valor_ordem = sorted([val1,val2,val3])\n",
        "print(valor_ordem)"
      ],
      "metadata": {
        "id": "ydOCYUMO-0Hk",
        "colab": {
          "base_uri": "https://localhost:8080/"
        },
        "outputId": "8ce0f2b5-abf6-44dc-c97c-28ea22464ff5"
      },
      "execution_count": null,
      "outputs": [
        {
          "output_type": "stream",
          "name": "stdout",
          "text": [
            "Digite o primeiro número: 15\n",
            "Digite o segundo número: 5\n",
            "Digite o terceiro número: 45\n",
            "[5.0, 15.0, 45.0]\n"
          ]
        }
      ]
    },
    {
      "cell_type": "markdown",
      "source": [
        "#### Questão 7\n",
        "Escreva um programa que pergunte em qual turno a pessoa usuária estuda (\"manhã\", \"tarde\" ou \"noite\") e exiba a mensagem \"Bom Dia!\", \"Boa Tarde!\", \"Boa Noite!\", ou \"Valor Inválido!\", conforme o caso."
      ],
      "metadata": {
        "id": "inW3F-hAHS_X"
      }
    },
    {
      "cell_type": "code",
      "source": [
        "periodo = input('qual o turno que você estuda [manhã, tarde ou noite]? ').lower()\n",
        "if periodo == 'manhã':\n",
        "  print('Bom dia')\n",
        "elif periodo == 'tarde':\n",
        "  print('Boa tarde')\n",
        "elif periodo == 'noite':\n",
        "  print('Boa noite')\n",
        "else:\n",
        "  print('Valor inválido')"
      ],
      "metadata": {
        "id": "-_q-Pcr_-zth",
        "colab": {
          "base_uri": "https://localhost:8080/"
        },
        "outputId": "d0726578-3ff9-4b2c-d021-4f157a132bb5"
      },
      "execution_count": null,
      "outputs": [
        {
          "output_type": "stream",
          "name": "stdout",
          "text": [
            "qual o turno que você estuda [manhã, tarde ou noite]? tarde\n",
            "Boa tarde\n"
          ]
        }
      ]
    },
    {
      "cell_type": "markdown",
      "source": [
        "#### Questão 8\n",
        "Escreva um programa que peça um número inteiro à pessoa usuária e determine se ele é par ou ímpar. Dica: Você pode utilizar o operador módulo `%`."
      ],
      "metadata": {
        "id": "NCCPF3QqHTw-"
      }
    },
    {
      "cell_type": "code",
      "source": [
        "numero = int(input('Digite um número inteiro: '))\n",
        "if numero % 2 == 0:\n",
        "  print(f'O número {numero} é par')\n",
        "else:\n",
        "  print(f'O número {numero} é impar')"
      ],
      "metadata": {
        "id": "OmZJt1nQ-3e6",
        "colab": {
          "base_uri": "https://localhost:8080/"
        },
        "outputId": "5a2bb6f3-88a0-4ac1-9fa7-ae532f8b5a58"
      },
      "execution_count": null,
      "outputs": [
        {
          "output_type": "stream",
          "name": "stdout",
          "text": [
            "Digite um número inteiro: 41\n",
            "O número 41 é impar\n"
          ]
        }
      ]
    },
    {
      "cell_type": "markdown",
      "source": [
        "#### Questão 9\n",
        "Escreva um programa que peça um número à pessoa usuária e informe se ele é inteiro ou decimal."
      ],
      "metadata": {
        "id": "h93Ck1tQHUwE"
      }
    },
    {
      "cell_type": "code",
      "source": [
        "numero = float(input('Informe um número válido: '))\n",
        "if numero % 1 == 0:\n",
        "  print('Número é inteiro')\n",
        "else:\n",
        "  print('Número é decimal')"
      ],
      "metadata": {
        "id": "sLMlZcx8-20N",
        "colab": {
          "base_uri": "https://localhost:8080/"
        },
        "outputId": "8ee44bd4-eb9b-4530-cb37-c0197853baf1"
      },
      "execution_count": null,
      "outputs": [
        {
          "output_type": "stream",
          "name": "stdout",
          "text": [
            "Informe um número válido: 15.5\n",
            "Número é decimal\n"
          ]
        }
      ]
    },
    {
      "cell_type": "markdown",
      "source": [
        "### Momento dos projetos"
      ],
      "metadata": {
        "id": "bKdXSK1SH_pF"
      }
    },
    {
      "cell_type": "markdown",
      "source": [
        "#### Questão 10\n",
        "Um programa deve ser escrito para ler dois números e, em seguida, perguntar à pessoa usuária qual operação ele deseja realizar. O resultado da operação deve incluir informações sobre o número - se é par ou ímpar, positivo ou negativo e inteiro ou decimal."
      ],
      "metadata": {
        "id": "WBlEyyzsHV86"
      }
    },
    {
      "cell_type": "code",
      "source": [
        "num1 = float(input('Digite o número 1 válido: '))\n",
        "num2 = float(input('Digite o número 2 válido: '))\n",
        "opera = input('Informe a operação deseja realizar (+ - / *): ')\n",
        "\n",
        "if opera == '+':\n",
        "  resultado = num1 + num2\n",
        "elif opera == '-':\n",
        "  resultado = num1 - num2\n",
        "elif opera == '*':\n",
        "  resultado = num1 * num2\n",
        "elif opera == '/':\n",
        "  resultado = num1 / num2\n",
        "else:\n",
        "  print('Operação inválida')\n",
        "\n",
        "print(f'O resultado é {resultado}')\n",
        "\n",
        "if resultado > 0:\n",
        "    print('O resultado é positivo')\n",
        "else:\n",
        "    print('O resultado é negativo')\n",
        "\n",
        "if resultado % 2 == 0:\n",
        "    print('O resultado é par')\n",
        "else:\n",
        "    print('O resultado é impar')\n",
        "\n",
        "if resultado % 1 == 0:\n",
        "    print('O resultado é inteiro')\n",
        "else:\n",
        "    print('O resultado é decimal')"
      ],
      "metadata": {
        "id": "3jmahZ0f-2gq",
        "colab": {
          "base_uri": "https://localhost:8080/"
        },
        "outputId": "c54ddc93-78ed-4109-ca26-14e7291630b4"
      },
      "execution_count": null,
      "outputs": [
        {
          "output_type": "stream",
          "name": "stdout",
          "text": [
            "Digite o número 1 válido: 25\n",
            "Digite o número 2 válido: 30\n",
            "Informe a operação deseja realizar (+ - / *): +\n",
            "O resultado é 55.0\n",
            "O resultado é positivo\n",
            "O resultado é impar\n",
            "O resultado é inteiro\n"
          ]
        }
      ]
    },
    {
      "cell_type": "markdown",
      "source": [
        "#### Questão 11\n",
        "Escreva um programa que peça à pessoa usuária três números que representam os lados de um triângulo. O programa deve informar se os valores podem ser utilizados para formar um triângulo e, caso afirmativo, se ele é equilátero, isósceles ou escaleno. Tenha em mente algumas dicas:\n",
        "- Três lados formam um triângulo quando a soma de quaisquer dois lados for maior que o terceiro;\n",
        "- Triângulo Equilátero: três lados iguais;\n",
        "- Triângulo Isósceles: quaisquer dois lados iguais;\n",
        "- Triângulo Escaleno: três lados diferentes;\n"
      ],
      "metadata": {
        "id": "VdnlULxHHW19"
      }
    },
    {
      "cell_type": "code",
      "source": [
        "lado1 = float(input('Digite o primeiro lado do triângulo:'))\n",
        "lado2 = float(input('Digite o segundo lado do triângulo:'))\n",
        "lado3 = float(input('Digite o terceiro lado do triângulo:'))\n",
        "\n",
        "if lado1+lado2>lado3 and lado1+lado3>lado2 and lado2+lado3>lado1:\n",
        "  print('É possível formar um triângulo')\n",
        "  if lado1 == lado2 == lado3:\n",
        "    print('Triângulo Equilátero')\n",
        "  elif lado1 == lado2 or lado1 == lado3 or lado2 == lado3:\n",
        "    print('Triângulo Isósceles')\n",
        "  else:\n",
        "    print('Triângulo Escaleno')\n",
        "else:\n",
        "  print('Não é possível formar um triângulo')"
      ],
      "metadata": {
        "id": "0z73sqUO-2Pw",
        "colab": {
          "base_uri": "https://localhost:8080/"
        },
        "outputId": "3ed6457c-5b98-4296-87fe-d539e1ae8582"
      },
      "execution_count": null,
      "outputs": [
        {
          "output_type": "stream",
          "name": "stdout",
          "text": [
            "Digite o primeiro lado do triângulo:10\n",
            "Digite o segundo lado do triângulo:10\n",
            "Digite o terceiro lado do triângulo:15\n",
            "É possível formar um triângulo\n",
            "Triângulo Isósceles\n"
          ]
        }
      ]
    },
    {
      "cell_type": "markdown",
      "source": [
        "#### Questão 12\n",
        "Um estabelecimento está vendendo combustíveis com descontos variados. Para o etanol, se a quantidade comprada for até 15 litros, o desconto será de 2% por litro. Caso contrário, será de 4% por litro. Para o diesel, se a quantidade comprada for até 15 litros, o desconto será de 3% por litro. Caso contrário, será de 5% por litro. O preço do litro de diesel é R\\$ 2,00 e o preço do litro de etanol é R\\$ 1,70. Escreva um programa que leia a quantidade de litros vendidos e o tipo de combustível (E para etanol e D para diesel) e calcule o valor a ser pago pelo cliente. Tenha em mente algumas dicas:\n",
        "\n",
        "- O do valor do desconto será a multiplicação entre preço do litro, quantidade de litros e o valor do desconto.\n",
        "- O valor a ser pago por um cliente será o resultado da multiplicação do preço do litro pela quantidade de litros menos o valor de desconto resultante do cálculo.\n"
      ],
      "metadata": {
        "id": "_PpEpOugHXwZ"
      }
    },
    {
      "cell_type": "code",
      "source": [
        "tipo_combustivel = input('Informe o tipo de combustível (E etanol - D diesel): ').upper()\n",
        "qtd_litros = float(input('Informe a quantidade de litros:'))\n",
        "\n",
        "if tipo_combustivel == 'E':\n",
        "  preco_litro = 1.70\n",
        "  if qtd_litros <= 15:\n",
        "    desconto = 0.02\n",
        "  else:\n",
        "    desconto = 0.04\n",
        "\n",
        "elif tipo_combustivel == \"D\":\n",
        "  preco_litro = 2.00\n",
        "  if qtd_litros <= 15:\n",
        "    desconto = 0.03\n",
        "  else:\n",
        "    desconto = 0.05\n",
        "else:\n",
        "    print('Entradas inválidas!')\n",
        "    preco_litro = 0\n",
        "    desconto = 0\n",
        "\n",
        "valorapagar = (qtd_litros * preco_litro) - (qtd_litros * preco_litro * desconto)\n",
        "\n",
        "print(f'Valor a pagar R$ {valorapagar}')"
      ],
      "metadata": {
        "id": "9izoF-0O-1yD",
        "colab": {
          "base_uri": "https://localhost:8080/"
        },
        "outputId": "2415ad93-02b0-4945-b0b3-49f20bcd03ad"
      },
      "execution_count": null,
      "outputs": [
        {
          "output_type": "stream",
          "name": "stdout",
          "text": [
            "Informe o tipo de combustível (E etanol - D diesel): d\n",
            "Informe a quantidade de litros:100\n",
            "Valor a pagar R$ 190.0\n"
          ]
        }
      ]
    },
    {
      "cell_type": "markdown",
      "source": [
        "#### Questão 13\n",
        "Em uma empresa de venda de imóveis você precisa criar um código que analise os dados de vendas anuais para ajudar a diretoria na tomada de decisão. O código precisa coletar os dados de quantidade de venda durante os anos de 2022 e 2023 e fazer um cálculo de variação percentual. A partir do valor da variação, deve ser enviada às seguintes sugestões:\n",
        "- Para variação acima de 20%: bonificação para o time de vendas.\n",
        "- Para variação entre 2% e 20%: pequena bonificação para time de vendas.\n",
        "- Para variação entre 2% e -10%: planejamento de políticas de incentivo às vendas.\n",
        "- Para bonificações abaixo de -10%: corte de gastos.\n"
      ],
      "metadata": {
        "id": "s_XS_D1WHY2R"
      }
    },
    {
      "cell_type": "code",
      "source": [
        "qtd_venda_2022 = int(input('Digite a quantidade de vendas em 2022: '))\n",
        "qtd_venda_2023 = int(input('Digite a quantidade de vendas em 2023: '))\n",
        "var_percentual = round(((qtd_venda_2023 - qtd_venda_2022) / qtd_venda_2022) * 100, 2)\n",
        "\n",
        "print(f'A variação percentual das vendas de 2022 a 2023 é de {var_percentual} %')\n",
        "\n",
        "if var_percentual > 20:\n",
        "  print('Bonificação para o time de vendas')\n",
        "elif var_percentual >= 2 and var_percentual <= 20:\n",
        "  print('Pequena bonificação para time de vendas')\n",
        "elif var_percentual >= -10 and var_percentual < 2:\n",
        "  print('Planejamento de políticas de incentivo às vendas')\n",
        "else:\n",
        "  print('Corte de gastos')"
      ],
      "metadata": {
        "id": "avQrYlUg-w8f",
        "colab": {
          "base_uri": "https://localhost:8080/"
        },
        "outputId": "b9cbfc10-d42b-4207-f14c-4d72a4dfffb3"
      },
      "execution_count": null,
      "outputs": [
        {
          "output_type": "stream",
          "name": "stdout",
          "text": [
            "Digite a quantidade de vendas em 2022: 150\n",
            "Digite a quantidade de vendas em 2023: 300\n",
            "A variação percentual das vendas de 2022 a 2023 é de 100.0 %\n",
            "Bonificação para o time de vendas\n"
          ]
        }
      ]
    },
    {
      "cell_type": "markdown",
      "source": [
        "## Aula 4 - Estruturas de repetição"
      ],
      "metadata": {
        "id": "AuaWh4-d2Itt"
      }
    },
    {
      "cell_type": "markdown",
      "source": [
        "### Aquecendo na programação"
      ],
      "metadata": {
        "id": "6MSqU0sIJRdD"
      }
    },
    {
      "cell_type": "markdown",
      "source": [
        "#### Questão 1\n",
        "Escreva um programa que peça dois números inteiros e imprima todos os números inteiros entre eles."
      ],
      "metadata": {
        "id": "9eGGyCnAJRdQ"
      }
    },
    {
      "cell_type": "code",
      "source": [
        "q1_num1 = int(input('Digite a 1° número: '))\n",
        "q1_num2 = int(input('Digite a 2° número: '))\n",
        "\n",
        "num_ordem = sorted([q1_num1,q1_num2])\n",
        "contador = num_ordem[0]\n",
        "\n",
        "while contador <= num_ordem[1]:\n",
        "  print(contador)\n",
        "  contador += 1"
      ],
      "metadata": {
        "id": "ID1oc1hxJRdQ",
        "colab": {
          "base_uri": "https://localhost:8080/"
        },
        "outputId": "46fee17e-cd48-4522-b52d-497c156dd8b6"
      },
      "execution_count": null,
      "outputs": [
        {
          "output_type": "stream",
          "name": "stdout",
          "text": [
            "Digite a 1° número: 33\n",
            "Digite a 2° número: 33\n",
            "33\n"
          ]
        }
      ]
    },
    {
      "cell_type": "markdown",
      "source": [
        "#### Questão 2\n",
        "Escreva um programa para calcular quantos dias levará para a colônia de uma bactéria A ultrapassar ou igualar a colônia de uma bactéria B, com base nas taxas de crescimento de 3% e 1,5% respectivamente. Considere que a colônia A inicia com 4 elementos e a colônia B com 10 elementos."
      ],
      "metadata": {
        "id": "mGonEHYCJRdR"
      }
    },
    {
      "cell_type": "code",
      "source": [
        "q2_coloniaA = 4\n",
        "q2_coloniaB = 10\n",
        "dias = 0\n",
        "\n",
        "while q2_coloniaA <= q2_coloniaB:\n",
        "  q2_coloniaA = q2_coloniaA * 1.03\n",
        "  q2_coloniaB = q2_coloniaB * 1.015\n",
        "  dias += 1\n",
        "\n",
        "print(f'colônia A: {int(q2_coloniaA)}')\n",
        "print(f'colônia B: {int(q2_coloniaB)}')\n",
        "print(f'A colônia A levará {dias} dias para ultrapassar a colônia B.')"
      ],
      "metadata": {
        "id": "wM6FJuoqJRdR",
        "colab": {
          "base_uri": "https://localhost:8080/"
        },
        "outputId": "70585d4e-f8bc-436b-c82b-c8e7dc96d501"
      },
      "execution_count": null,
      "outputs": [
        {
          "output_type": "stream",
          "name": "stdout",
          "text": [
            "colônia A: 25\n",
            "colônia B: 25\n",
            "A colônia A levará 63 dias para ultrapassar a colônia B.\n",
            "Irá levar 63 dias para a colônia A ultrapassar a colônia B.\n"
          ]
        }
      ]
    },
    {
      "cell_type": "markdown",
      "source": [
        "#### Questão 3\n",
        "Para tratar uma quantidade de 15 dados de avaliações de pessoas usuárias de um serviço da empresa, precisamos verificar se as notas são válidas. Então, escreva um programa que vai receber a nota de 0 a 5 de todos os dados e verificar se é um valor válido. Caso seja inserido uma nota acima de 5 ou abaixo de 0, repita até que a pessoa usuária insira um valor válido."
      ],
      "metadata": {
        "id": "UiOZRlqoJRdR"
      }
    },
    {
      "cell_type": "code",
      "source": [
        "q3_lista_notas = []\n",
        "# laço para pegar as 15 notas\n",
        "for i in range(15):\n",
        "  q3_nota = float(input(f'Digite uma nota (entre 0 e 5) para a pessoa usuária {i+1}: '))\n",
        "\n",
        "  while q3_nota < 0 or q3_nota >5:\n",
        "    q3_nota = float(input(f'Nota inválida. Digite uma nota entre 0 e 5 para a pessoa usuária {i+1}: '))\n",
        "\n",
        "  q3_lista_notas.append(q3_nota)\n",
        "\n",
        "print(f'Notas atribuidas {q3_lista_notas}')"
      ],
      "metadata": {
        "id": "3TUAhCxcJRdR",
        "colab": {
          "base_uri": "https://localhost:8080/"
        },
        "outputId": "a404912e-90a9-4eb2-80ba-12d50f4d8b8d"
      },
      "execution_count": null,
      "outputs": [
        {
          "output_type": "stream",
          "name": "stdout",
          "text": [
            "Digite uma nota (entre 0 e 5) para a pessoa usuária 1: 1\n",
            "Digite uma nota (entre 0 e 5) para a pessoa usuária 2: 2\n",
            "Digite uma nota (entre 0 e 5) para a pessoa usuária 3: 3\n",
            "Digite uma nota (entre 0 e 5) para a pessoa usuária 4: 4\n",
            "Digite uma nota (entre 0 e 5) para a pessoa usuária 5: 5\n",
            "Digite uma nota (entre 0 e 5) para a pessoa usuária 6: 1\n",
            "Digite uma nota (entre 0 e 5) para a pessoa usuária 7: 2\n",
            "Digite uma nota (entre 0 e 5) para a pessoa usuária 8: 3\n",
            "Digite uma nota (entre 0 e 5) para a pessoa usuária 9: 4\n",
            "Digite uma nota (entre 0 e 5) para a pessoa usuária 10: 5\n",
            "Digite uma nota (entre 0 e 5) para a pessoa usuária 11: 1\n",
            "Digite uma nota (entre 0 e 5) para a pessoa usuária 12: 2\n",
            "Digite uma nota (entre 0 e 5) para a pessoa usuária 13: 3\n",
            "Digite uma nota (entre 0 e 5) para a pessoa usuária 14: 4\n",
            "Digite uma nota (entre 0 e 5) para a pessoa usuária 15: 5\n",
            "Notas atribuidas [1.0, 2.0, 3.0, 4.0, 5.0, 1.0, 2.0, 3.0, 4.0, 5.0, 1.0, 2.0, 3.0, 4.0, 5.0]\n"
          ]
        }
      ]
    },
    {
      "cell_type": "markdown",
      "source": [
        "#### Questão 4\n",
        "Desenvolva um programa que leia um conjunto indeterminado de temperaturas em Celsius e faça uma análise. Portanto, escreva um programa que leia temperaturas e informe a média delas. A leitura deve ser encerrada ao ser enviado o valor -273°C."
      ],
      "metadata": {
        "id": "ABv3KObGJRdR"
      }
    },
    {
      "cell_type": "code",
      "source": [
        "q4_lista_temp = []\n",
        "q4_temp = 0\n",
        "\n",
        "while q4_temp != -273:\n",
        "  q4_temp = int(input('Digite uma temperatura em Celsius :'))\n",
        "  if q4_temp != -273:\n",
        "    q4_lista_temp.append(q4_temp)\n",
        "\n",
        "q4_media = sum(q4_lista_temp) / len(q4_lista_temp)\n",
        "print(f'A média das temperaturas informadas é de {q4_media:.2f}')"
      ],
      "metadata": {
        "id": "85tBBj5KJRdS",
        "colab": {
          "base_uri": "https://localhost:8080/"
        },
        "outputId": "9c1f952d-5d6e-40e0-d1d3-1c90840eea54"
      },
      "execution_count": null,
      "outputs": [
        {
          "output_type": "stream",
          "name": "stdout",
          "text": [
            "Digite uma temperatura em Celsius :100\n",
            "Digite uma temperatura em Celsius :-50\n",
            "Digite uma temperatura em Celsius :150\n",
            "Digite uma temperatura em Celsius :-273\n",
            "A média das temperaturas informadas é de 66.67\n"
          ]
        }
      ]
    },
    {
      "cell_type": "markdown",
      "source": [
        "#### Questão 5\n",
        "Escreva um programa que calcule o fatorial de um número inteiro fornecido pela pessoa usuária. O fatorial de um número inteiro é a multiplicação desse número por todos os seus antecessores até o número 1. Por exemplo, o fatorial de 5 é 5 x 4 x 3 x 2 x 1 = 120."
      ],
      "metadata": {
        "id": "IjkbAfGcJRdS"
      }
    },
    {
      "cell_type": "code",
      "source": [
        "q5_num_fatorial = int(input('Digite um número inteiro (1 a 10) para calcular o seu fatorial: '))\n",
        "\n",
        "while q5_num_fatorial < 1 or q5_num_fatorial >10:\n",
        "  q5_num_fatorial = int(input('Número inválido. Digite um número inteiro (1 a 10) para calcular o seu fatorial: '))\n",
        "\n",
        "q5_contador = 1\n",
        "q5_resultado = 1\n",
        "\n",
        "while q5_contador <= q5_num_fatorial:\n",
        "  q5_resultado = q5_resultado * q5_contador\n",
        "  q5_contador += 1\n",
        "\n",
        "print(f'O número fatorial de {q5_num_fatorial} é {q5_resultado}')"
      ],
      "metadata": {
        "id": "7RTH8o0HJRdS",
        "colab": {
          "base_uri": "https://localhost:8080/"
        },
        "outputId": "d46ee67c-8e19-4f2c-aeb5-85fa029a4694"
      },
      "execution_count": null,
      "outputs": [
        {
          "output_type": "stream",
          "name": "stdout",
          "text": [
            "Digite um número inteiro (1 a 10) para calcular o seu fatorial: 6\n",
            "O número fatorial de 6 é 720\n"
          ]
        }
      ]
    },
    {
      "cell_type": "markdown",
      "source": [
        "### Momento dos projetos"
      ],
      "metadata": {
        "id": "oGNKuQjsJRdT"
      }
    },
    {
      "cell_type": "markdown",
      "source": [
        "#### Questão 6\n",
        "Escreva um programa que gere a tabuada de um número inteiro de 1 a 10, de acordo com a escolha da pessoa usuária. Como exemplo, para o número 2, a tabuada deve ser mostrada no seguinte formato:\n",
        "```\n",
        "Tabuada do 2:\n",
        "2 x 1 = 2\n",
        "2 x 2 = 4\n",
        "[...]\n",
        "2 x 10 = 20\n",
        "```"
      ],
      "metadata": {
        "id": "ODxaTUYmJRdS"
      }
    },
    {
      "cell_type": "code",
      "source": [
        "q6_num_tabuada = int(input('Digite um número inteiro (2 a 10) para gerar a tabuada'))\n",
        "\n",
        "if q6_num_tabuada >= 2 and q6_num_tabuada <= 10:\n",
        "  i = 1\n",
        "  for i in range(10):\n",
        "    i += 1\n",
        "    print(f'{q6_num_tabuada} x {i} = {q6_num_tabuada * i} ')\n",
        "else:\n",
        "  print('Número informado inválido')"
      ],
      "metadata": {
        "id": "lkTlbxPIJRdS",
        "colab": {
          "base_uri": "https://localhost:8080/"
        },
        "outputId": "496e43cc-019d-4eb2-a472-d391ff64249e"
      },
      "execution_count": null,
      "outputs": [
        {
          "output_type": "stream",
          "name": "stdout",
          "text": [
            "Digite um número inteiro (2 a 10) para gerar a tabuada5\n",
            "5 x 1 = 5 \n",
            "5 x 2 = 10 \n",
            "5 x 3 = 15 \n",
            "5 x 4 = 20 \n",
            "5 x 5 = 25 \n",
            "5 x 6 = 30 \n",
            "5 x 7 = 35 \n",
            "5 x 8 = 40 \n",
            "5 x 9 = 45 \n",
            "5 x 10 = 50 \n"
          ]
        }
      ]
    },
    {
      "cell_type": "markdown",
      "source": [
        "#### Questão 7\n",
        "Os números primos possuem várias aplicações dentro da Ciência de Dados, por exemplo, na criptografia e segurança. Um número primo é aquele que é divisível apenas por um e por ele mesmo. Faça um programa que peça um número inteiro e determine se ele é ou não um número primo."
      ],
      "metadata": {
        "id": "LeIbnt8VJRdS"
      }
    },
    {
      "cell_type": "code",
      "source": [
        "q7_numero = int(input('Digite um número inteiro menor que 100: '))\n",
        "\n",
        "while q7_numero > 100:\n",
        "  q7_numero = int(input('Número inválido. Digite um número inteiro menor que 100:'))\n",
        "else:\n",
        "  if q7_numero == 1: # validação para numero 1 que não é primo\n",
        "     q7_primo_val = False\n",
        "  elif q7_numero == 2: # validação para numero 2 que é primo\n",
        "     q7_primo_val = True\n",
        "  else:\n",
        "     for i in range(2,q7_numero):\n",
        "         if q7_numero % i == 0:\n",
        "            q7_primo_val = False\n",
        "            break\n",
        "         else:\n",
        "            q7_primo_val = True\n",
        "\n",
        "if q7_primo_val:\n",
        "    print(f\"{q7_numero} é primo!\")\n",
        "else:\n",
        "    print(f\"{q7_numero} não é primo.\")"
      ],
      "metadata": {
        "id": "2rcNU7twJRdS",
        "colab": {
          "base_uri": "https://localhost:8080/"
        },
        "outputId": "80d474ee-bf11-4320-c53d-c3d16b22df88"
      },
      "execution_count": null,
      "outputs": [
        {
          "output_type": "stream",
          "name": "stdout",
          "text": [
            "Digite um número inteiro menor que 100: 5\n",
            "5 é primo!\n"
          ]
        }
      ]
    },
    {
      "cell_type": "markdown",
      "source": [
        "#### Questão 8\n",
        "Vamos entender a distribuição de idades de pensionistas de uma empresa de previdência. Escreva um programa que leia as idades de uma quantidade não informada de clientes e mostre a distribuição em intervalos de [0-25], [26-50], [51-75] e [76-100]. Encerre a entrada de dados com um número negativo."
      ],
      "metadata": {
        "id": "QTwb6QaCJRdT"
      }
    },
    {
      "cell_type": "code",
      "source": [
        "q8_0a25 = 0\n",
        "q8_26a50 = 0\n",
        "q8_51a75 = 0\n",
        "q8_76a100 = 0\n",
        "q8_idade = 0\n",
        "\n",
        "while q8_idade >= 0:\n",
        "  q8_idade = int(input('Digite a idade do cliente: '))\n",
        "  if q8_idade >= 0 and q8_idade <= 25:\n",
        "     q8_0a25 += 1\n",
        "  elif q8_idade >= 26 and q8_idade <= 50:\n",
        "     q8_26a50 += 1\n",
        "  elif q8_idade >= 51 and q8_idade <= 75:\n",
        "     q8_51a75 += 1\n",
        "  elif q8_idade >= 76 and q8_idade <= 100:\n",
        "     q8_76a100 +=1\n",
        "\n",
        "#apresentação dos resultados\n",
        "print('Distribuição das idades')\n",
        "print(f'[ 0 - 25 ]: {q8_0a25}')\n",
        "print(f'[ 26 - 50 ]: {q8_26a50}')\n",
        "print(f'[ 51 - 75 ]: {q8_51a75}')\n",
        "print(f'[ 75 - 100 ]: {q8_76a100}')"
      ],
      "metadata": {
        "id": "4IAhaDmYJRdT",
        "colab": {
          "base_uri": "https://localhost:8080/"
        },
        "outputId": "e6d74e7f-cc00-4c4b-c5b2-7ee1b205e5a8"
      },
      "execution_count": null,
      "outputs": [
        {
          "output_type": "stream",
          "name": "stdout",
          "text": [
            "Digite a idade do cliente: 1\n",
            "Digite a idade do cliente: 3\n",
            "Digite a idade do cliente: 4\n",
            "Digite a idade do cliente: 5\n",
            "Digite a idade do cliente: 30\n",
            "Digite a idade do cliente: 34\n",
            "Digite a idade do cliente: 40\n",
            "Digite a idade do cliente: 45\n",
            "Digite a idade do cliente: 52\n",
            "Digite a idade do cliente: 55\n",
            "Digite a idade do cliente: 56\n",
            "Digite a idade do cliente: 65\n",
            "Digite a idade do cliente: 80\n",
            "Digite a idade do cliente: 85\n",
            "Digite a idade do cliente: 90\n",
            "Digite a idade do cliente: 95\n",
            "Digite a idade do cliente: -1\n",
            "Distribuição das idades\n",
            "[ 0 - 25 ]: 4\n",
            "[ 26 - 50 ]: 4\n",
            "[ 51 - 75 ]: 4\n",
            "[ 75 - 100 ]: 4\n"
          ]
        }
      ]
    },
    {
      "cell_type": "markdown",
      "source": [
        "#### Questão 9\n",
        "Em uma eleição para gerência em uma empresa com 20 funcionários, existem quatro candidatos. Escreva um programa que calcule o vencedor da eleição. A votação ocorreu da seguinte maneira:\n",
        "- Cada funcionário votou em um dos quatro candidatos (representados pelos números 1, 2, 3 e 4).\n",
        "- Também foram contabilizados os votos nulos (representado pelo número 5) e os votos em branco (representado pelo número 6).\n",
        "\n",
        "Ao final da votação, o programa deve exibir o total de votos para cada candidato, o número de votos nulos e o número de votos em branco. Além disso, deve calcular e exibir a porcentagem de votos nulos em relação ao total de votos e a porcentagem de votos em branco em relação ao total de votos."
      ],
      "metadata": {
        "id": "soJCQVwRJRdT"
      }
    },
    {
      "cell_type": "code",
      "source": [
        "q9_cand1 = 0\n",
        "q9_cand2 = 0\n",
        "q9_cand3 = 0\n",
        "q9_cand4 = 0\n",
        "q9_nulo = 0\n",
        "q9_branco = 0\n",
        "\n",
        "# inicia laço para coletar os votos\n",
        "for i in range(0,20):\n",
        "  q9_voto = int(input(f'Digite o voto do funcionário {i+1} (1, 2, 3, 4, 5 ou 6): '))\n",
        "  if q9_voto == 1:\n",
        "    q9_cand1 += 1\n",
        "  elif q9_voto == 2:\n",
        "    q9_cand2 += 1\n",
        "  elif q9_voto == 3:\n",
        "    q9_cand3 += 1\n",
        "  elif q9_voto == 4:\n",
        "    q9_cand4 += 1\n",
        "  elif q9_voto == 5:\n",
        "    q9_nulo += 1\n",
        "  elif q9_voto == 6:\n",
        "    q9_branco += 1\n",
        "  else:\n",
        "    print('Voto inválido')\n",
        "\n",
        "print(f'Candidato 1: {q9_cand1}')\n",
        "print(f'Candidato 2: {q9_cand2}')\n",
        "print(f'Candidato 3: {q9_cand3}')\n",
        "print(f'Candidato 4: {q9_cand4}')\n",
        "print(f'Votos nulos: {q9_nulo}')\n",
        "print(f'Votos em branco: {q9_branco}')\n",
        "print(f'Porcentagem de votos nulos em relação ao total de votos: {q9_nulo / 20 * 100:.2f}%')\n",
        "print(f'Porcentagem de votos em branco em relação ao total de votos: {q9_branco / 20 * 100:.2f}%')"
      ],
      "metadata": {
        "id": "041EFrgG-4gR",
        "colab": {
          "base_uri": "https://localhost:8080/"
        },
        "outputId": "23874e7d-5372-4f88-8d3a-c722a8817091"
      },
      "execution_count": null,
      "outputs": [
        {
          "output_type": "stream",
          "name": "stdout",
          "text": [
            "Digite o voto do funcionário 1 (1, 2, 3, 4, 5 ou 6): 1\n",
            "Digite o voto do funcionário 2 (1, 2, 3, 4, 5 ou 6): 1\n",
            "Digite o voto do funcionário 3 (1, 2, 3, 4, 5 ou 6): 2\n",
            "Digite o voto do funcionário 4 (1, 2, 3, 4, 5 ou 6): 2\n",
            "Digite o voto do funcionário 5 (1, 2, 3, 4, 5 ou 6): 2\n",
            "Digite o voto do funcionário 6 (1, 2, 3, 4, 5 ou 6): 2\n",
            "Digite o voto do funcionário 7 (1, 2, 3, 4, 5 ou 6): 3\n",
            "Digite o voto do funcionário 8 (1, 2, 3, 4, 5 ou 6): 3\n",
            "Digite o voto do funcionário 9 (1, 2, 3, 4, 5 ou 6): 5\n",
            "Digite o voto do funcionário 10 (1, 2, 3, 4, 5 ou 6): 5\n",
            "Digite o voto do funcionário 11 (1, 2, 3, 4, 5 ou 6): 5\n",
            "Digite o voto do funcionário 12 (1, 2, 3, 4, 5 ou 6): 6\n",
            "Digite o voto do funcionário 13 (1, 2, 3, 4, 5 ou 6): 6\n",
            "Digite o voto do funcionário 14 (1, 2, 3, 4, 5 ou 6): 6\n",
            "Digite o voto do funcionário 15 (1, 2, 3, 4, 5 ou 6): 6\n",
            "Digite o voto do funcionário 16 (1, 2, 3, 4, 5 ou 6): 6\n",
            "Digite o voto do funcionário 17 (1, 2, 3, 4, 5 ou 6): 6\n",
            "Digite o voto do funcionário 18 (1, 2, 3, 4, 5 ou 6): 6\n",
            "Digite o voto do funcionário 19 (1, 2, 3, 4, 5 ou 6): 6\n",
            "Digite o voto do funcionário 20 (1, 2, 3, 4, 5 ou 6): 6\n",
            "Candidato 1: 2\n",
            "Candidato 2: 4\n",
            "Candidato 3: 2\n",
            "Candidato 4: 0\n",
            "Votos nulos: 3\n",
            "Votos em branco: 9\n",
            "Porcentagem de votos nulos em relação ao total de votos: 15.00%\n",
            "Porcentagem de votos em branco em relação ao total de votos: 45.00%\n"
          ]
        }
      ]
    },
    {
      "cell_type": "markdown",
      "source": [
        "## Aula 5 - Estruturas de dados"
      ],
      "metadata": {
        "id": "eijHQiNU2IZ7"
      }
    },
    {
      "cell_type": "markdown",
      "source": [
        "### Aquecendo na programação"
      ],
      "metadata": {
        "id": "92F0bKtBMgd7"
      }
    },
    {
      "cell_type": "markdown",
      "source": [
        "#### Questão 1\n",
        "Faça um programa que tenha a seguinte lista contendo os valores de gastos de uma empresa de papel `[2172.54, 3701.35, 3518.09, 3456.61, 3249.38, 2840.82, 3891.45, 3075.26, 2317.64, 3219.08]`. Com esses valores, faça um programa que calcule a média de gastos. Dica, use as funções built-in [`sum()`](https://docs.python.org/3/library/functions.html#sum) e [`len()`](https://docs.python.org/3/library/functions.html#len)."
      ],
      "metadata": {
        "id": "IypX2ANuMgeC"
      }
    },
    {
      "cell_type": "code",
      "source": [
        "q1_lista_valores = [2172.54, 3701.35, 3518.09, 3456.61, 3249.38, 2840.82, 3891.45, 3075.26, 2317.64, 3219.08]\n",
        "q1_media = sum(q1_lista_valores) / len(q1_lista_valores)\n",
        "print(f'A média dos valores de gastos da empresa é R$ {q1_media:.2f}')"
      ],
      "metadata": {
        "id": "ge3LuFhLMgeD",
        "colab": {
          "base_uri": "https://localhost:8080/"
        },
        "outputId": "702d2c14-b05a-4d19-8920-001db5ccefa9"
      },
      "execution_count": null,
      "outputs": [
        {
          "output_type": "stream",
          "name": "stdout",
          "text": [
            "A média dos valores de gastos da empresa é R$ 3144.22\n"
          ]
        }
      ]
    },
    {
      "cell_type": "markdown",
      "source": [
        "#### Questão 2\n",
        " Com os mesmos dados da questão anterior, defina quantas compras foram acima de 3000 reais e calcule a porcentagem quanto ao total de compras."
      ],
      "metadata": {
        "id": "xrOeLhQkMgeD"
      }
    },
    {
      "cell_type": "code",
      "source": [
        "q2_total_acima = []\n",
        "\n",
        "# cria laço para percorrer todos os valores\n",
        "for i in q1_lista_valores:\n",
        "  if i > 3000:\n",
        "    q2_total_acima.append(i)\n",
        "\n",
        "q2_soma_acima = sum(q2_total_acima)\n",
        "q2_porcentagem = (q2_soma_acima / sum(q1_lista_valores)) * 100\n",
        "print(f'O total de compras acima de 3000 reais é de R$ {q2_soma_acima:.2f}')\n",
        "print(f'A porcentagem de compras acima de 3000 reais é de {q2_porcentagem:.2f}%')\n",
        "# print para validar se adicionou valores corretos\n",
        "print(q2_total_acima)"
      ],
      "metadata": {
        "id": "Ygu5TMZyMgeD",
        "colab": {
          "base_uri": "https://localhost:8080/"
        },
        "outputId": "4805c82b-84e4-476e-fcf9-c24ab0d468a0"
      },
      "execution_count": null,
      "outputs": [
        {
          "output_type": "stream",
          "name": "stdout",
          "text": [
            "O total de compras acima de 3000 reais é de R$ 24111.22\n",
            "A porcentagem de compras acima de 3000 reais é de 76.68%\n",
            "[3701.35, 3518.09, 3456.61, 3249.38, 3891.45, 3075.26, 3219.08]\n"
          ]
        }
      ]
    },
    {
      "cell_type": "markdown",
      "source": [
        "#### Questão 3\n",
        "Faça um código que colete em uma lista 5 números inteiros quaisquer e imprima a lista. Exemplo: `[1,4,7,2,4]`."
      ],
      "metadata": {
        "id": "JgCOrE_BMgeD"
      }
    },
    {
      "cell_type": "code",
      "source": [
        "q3_lista_num = []\n",
        "i = 1\n",
        "#cria laço para coletar valores\n",
        "for i in range(5):\n",
        "  q3_num = int(input(f'Digite o {i}° número: '))\n",
        "  q3_lista_num.append(q3_num)\n",
        "  i += 1\n",
        "\n",
        "print(f'A lista de números é {q3_lista_num}')"
      ],
      "metadata": {
        "id": "vtM9O1hLMgeD",
        "colab": {
          "base_uri": "https://localhost:8080/"
        },
        "outputId": "800d19e2-b6d0-4944-9b0c-f8870dee3896"
      },
      "execution_count": null,
      "outputs": [
        {
          "output_type": "stream",
          "name": "stdout",
          "text": [
            "Digite o 0° número: 9\n",
            "Digite o 1° número: 7\n",
            "Digite o 2° número: 5\n",
            "Digite o 3° número: 3\n",
            "Digite o 4° número: 1\n",
            "A lista de números é [9, 7, 5, 3, 1]\n"
          ]
        }
      ]
    },
    {
      "cell_type": "markdown",
      "source": [
        "#### Questão 4\n",
        "Colete novamente 5 inteiros e imprima a lista em ordem inversa à enviada."
      ],
      "metadata": {
        "id": "p3bTp88HMgeD"
      }
    },
    {
      "cell_type": "code",
      "source": [
        "q3_lista_num.reverse()\n",
        "print(f'A lista de números em ordem inversa é {q3_lista_num}')"
      ],
      "metadata": {
        "id": "-CGwMIyHMgeD",
        "colab": {
          "base_uri": "https://localhost:8080/"
        },
        "outputId": "7832aac9-f051-4f7a-9cd5-88b611f69bed"
      },
      "execution_count": null,
      "outputs": [
        {
          "output_type": "stream",
          "name": "stdout",
          "text": [
            "A lista de números em ordem inversa é [1, 3, 5, 7, 9]\n"
          ]
        }
      ]
    },
    {
      "cell_type": "markdown",
      "source": [
        "#### Questão 5\n",
        "Faça um programa que, ao inserir um número qualquer, criará uma lista contendo todos os números primos entre 1 e o número digitado."
      ],
      "metadata": {
        "id": "eIXd_z1lMgeD"
      }
    },
    {
      "cell_type": "code",
      "source": [
        "q5_lista_primos = []\n",
        "q5_num = int(input('Digite um número inteiro máximo para encontrar os números primos: '))\n",
        "\n",
        "for i in range(2,q5_num+1):\n",
        "  for j in range(2,i):\n",
        "    if i % j == 0:\n",
        "      break\n",
        "  else:\n",
        "    q5_lista_primos.append(i)\n",
        "\n",
        "print(f'A lista de números primos é {q5_lista_primos}')"
      ],
      "metadata": {
        "id": "rj_6GHstMgeE",
        "colab": {
          "base_uri": "https://localhost:8080/"
        },
        "outputId": "70ce0127-e289-431d-fc0d-f05ef1a983f6"
      },
      "execution_count": null,
      "outputs": [
        {
          "output_type": "stream",
          "name": "stdout",
          "text": [
            "Digite um número inteiro máximo para encontrar os números primos: 50\n",
            "A lista de números primos é [2, 3, 5, 7, 11, 13, 17, 19, 23, 29, 31, 37, 41, 43, 47]\n"
          ]
        }
      ]
    },
    {
      "cell_type": "markdown",
      "source": [
        "#### Questão 6\n",
        "Escreva um programa que peça uma data informando o dia, mês e ano e determine se ela é uma data válida para uma análise."
      ],
      "metadata": {
        "id": "zrbz3ENlMgeE"
      }
    },
    {
      "cell_type": "code",
      "source": [
        "q6_dia = int(input('Digite o dia: '))\n",
        "q6_mes = int(input('Digite o mês: '))\n",
        "q6_ano = int(input('Digite o ano: '))\n",
        "\n",
        "# analise de fevereiro e bissexto\n",
        "if q6_mes == 2:\n",
        "   if q6_ano % 4 == 0 and ((q6_ano % 100 != 0) or (q6_ano % 400 == 0)):\n",
        "      q6_dias_fev = 29\n",
        "   else:\n",
        "      q6_dias_fev = 28\n",
        "   # verifica se o dia digitado é valido\n",
        "   if q6_dia >= 1 and q6_dia <= q6_dias_fev:\n",
        "      print('Data válida')\n",
        "   else:\n",
        "      print('Data inválida')\n",
        "\n",
        "# analise dos meses terminados em 31 dias\n",
        "elif q6_mes in [1,3,5,7,8,10,12]:\n",
        "    if q6_dia >= 1 and q6_dia <= 31:\n",
        "      print('Data válida')\n",
        "    else:\n",
        "      print('Data inválida')\n",
        "\n",
        "# analise dos meses terminados em 30 dias\n",
        "elif q6_mes in [4,6,9,11]:\n",
        "    if q6_dia >= 1 and q6_dia <= 31:\n",
        "      print('Data válida')\n",
        "    else:\n",
        "      print('Data inválida')\n",
        "\n",
        "# verifica se mes nao está entre 1 e 12\n",
        "else:\n",
        "  print('Data inválida')"
      ],
      "metadata": {
        "id": "0eYA8UjTMgeE",
        "colab": {
          "base_uri": "https://localhost:8080/"
        },
        "outputId": "d0cf4970-a5b8-4c2b-a889-b7faf6732e1b"
      },
      "execution_count": null,
      "outputs": [
        {
          "output_type": "stream",
          "name": "stdout",
          "text": [
            "Digite o dia: 15\n",
            "Digite o mês: 05\n",
            "Digite o ano: 2025\n",
            "Data válida\n"
          ]
        }
      ]
    },
    {
      "cell_type": "markdown",
      "source": [
        "### Momento dos projetos"
      ],
      "metadata": {
        "id": "ut_4VHdGMgeE"
      }
    },
    {
      "cell_type": "markdown",
      "source": [
        "#### Questão 7\n",
        "Para um estudo envolvendo o nível de multiplicação de bactérias em uma colônia, foi coletado o número de bactérias multiplicadas por dia, com base em um processo de duplicação diária e pode ser observado a seguir: `[1.2, 2.1, 3.3, 5.0, 7.8, 11.3, 16.6, 25.1, 37.8, 56.9]`. Tendo esses valores, faça um código que gere uma lista contendo o percentual de crescimento de bactérias por dia, comparando o número de bactérias em cada dia com o número de bactérias do dia anterior. Dica: para calcular o percentual de crescimento usamos a seguinte equação: `100 * (amostra_atual - amostra_passada) / (amostra_passada)`."
      ],
      "metadata": {
        "id": "G86Z0vD_MgeE"
      }
    },
    {
      "cell_type": "code",
      "source": [
        "q7_bact_colonia = [1.2, 2.1, 3.3, 5.0, 7.8, 11.3, 16.6, 25.1, 37.8, 56.9]\n",
        "q7_percentual = []\n",
        "\n",
        "for i in range(1,len(q7_bact_colonia)):\n",
        "  q7_calc_perc = str(round(100 * (q7_bact_colonia[i] - q7_bact_colonia[i-1]) / q7_bact_colonia[i-1],2))+'%'\n",
        "  q7_percentual.append(q7_calc_perc)\n",
        "  i += 1\n",
        "\n",
        "print(f'O percentual de crescimento de bactérias por dia é {q7_percentual}')"
      ],
      "metadata": {
        "id": "PXNO_CFkMgeE",
        "colab": {
          "base_uri": "https://localhost:8080/"
        },
        "outputId": "2a191341-3c2c-47ec-d343-ceb6707c9983"
      },
      "execution_count": null,
      "outputs": [
        {
          "output_type": "stream",
          "name": "stdout",
          "text": [
            "O percentual de crescimento de bactérias por dia é ['75.0%', '57.14%', '51.52%', '56.0%', '44.87%', '46.9%', '51.2%', '50.6%', '50.53%']%\n"
          ]
        }
      ]
    },
    {
      "cell_type": "markdown",
      "source": [
        "#### Questão 8\n",
        "Para uma seleção de produtos alimentícios, precisamos separar o conjunto de IDs dados por números inteiros, sabendo que os produtos com ID par são doces e os com ID ímpar são amargos. Monte um código que colete 10 IDs. Depois, calcule e mostre a quantidade de produtos doces e amargos."
      ],
      "metadata": {
        "id": "p4nxogpnMgeE"
      }
    },
    {
      "cell_type": "code",
      "source": [
        "q8_lista_ID = []\n",
        "q8_doce = 0\n",
        "q8_amargo = 0\n",
        "\n",
        "i = 1\n",
        "for i in range(10):\n",
        "  # par = doce ... impar = amargo\n",
        "  q8_ID = int(input(f'Digite o ID do produto {i+1}: '))\n",
        "  q8_lista_ID.append(q8_ID)\n",
        "\n",
        "i = 1\n",
        "for i in range(len(q8_lista_ID)):\n",
        "  if q8_lista_ID[i] % 2 == 0:\n",
        "    q8_doce += 1\n",
        "  else:\n",
        "    q8_amargo += 1\n",
        "\n",
        "print(f'A lista de IDs é {q8_lista_ID}')\n",
        "print(f'A quantidade de produtos doces é {q8_doce}')\n",
        "print(f'A quantidade de produtos amargos é {q8_amargo}')"
      ],
      "metadata": {
        "id": "WqjO2SZkMgeE",
        "colab": {
          "base_uri": "https://localhost:8080/"
        },
        "outputId": "6ad28149-a3f3-4e76-8d9c-be9a414dc0fd"
      },
      "execution_count": null,
      "outputs": [
        {
          "output_type": "stream",
          "name": "stdout",
          "text": [
            "Digite o ID do produto 1: 10\n",
            "Digite o ID do produto 2: 12\n",
            "Digite o ID do produto 3: 11\n",
            "Digite o ID do produto 4: 13\n",
            "Digite o ID do produto 5: 14\n",
            "Digite o ID do produto 6: 15\n",
            "Digite o ID do produto 7: 16\n",
            "Digite o ID do produto 8: 17\n",
            "Digite o ID do produto 9: 18\n",
            "Digite o ID do produto 10: 21\n",
            "A lista de IDs é [10, 12, 11, 13, 14, 15, 16, 17, 18, 21]\n",
            "A quantidade de produtos doces é 5\n",
            "A quantidade de produtos amargos é 5\n"
          ]
        }
      ]
    },
    {
      "cell_type": "markdown",
      "source": [
        "#### Questão 9\n",
        "Desenvolva um programa que informa a nota de um aluno de acordo com suas respostas. Ele deve pedir a resposta de um aluno para cada questão e é preciso verificar se a resposta foi igual ao gabarito. Cada questão vale um ponto e existem alternativas:  A, B, C ou D.\n",
        "```\n",
        "Gabarito da Prova:\n",
        "01 - D\n",
        "02 - A\n",
        "03 - C\n",
        "04 - B\n",
        "05 - A\n",
        "06 - D\n",
        "07 - C\n",
        "08 - C\n",
        "09 - A\n",
        "10 - B\n",
        "```"
      ],
      "metadata": {
        "id": "t5OrLxV6MgeE"
      }
    },
    {
      "cell_type": "code",
      "source": [
        "q9_respostas = []\n",
        "q9_gabarito = ['D','A','C','B','A','D','C','C','A','B']\n",
        "q9_notas = 0\n",
        "\n",
        "# recebe as respostas do aluno\n",
        "for i in range(len(q9_gabarito)):\n",
        "  q9_resposta = input(f'Digite a resposta da questão {i+1}: ')\n",
        "  q9_respostas.append(q9_resposta)\n",
        "\n",
        "# compara com o gabarito\n",
        "for i in range(len(q9_gabarito)):\n",
        "  if q9_respostas[i] == q9_gabarito[i]:\n",
        "    q9_notas += 1\n",
        "\n",
        "print(f'A nota do aluno é {q9_notas}')\n"
      ],
      "metadata": {
        "id": "ytIQDJrQMgeE",
        "colab": {
          "base_uri": "https://localhost:8080/"
        },
        "outputId": "a7fc27bc-9d16-442c-ee7f-e5538d44fcab"
      },
      "execution_count": null,
      "outputs": [
        {
          "output_type": "stream",
          "name": "stdout",
          "text": [
            "Digite a resposta da questão 1: D\n",
            "Digite a resposta da questão 2: A\n",
            "Digite a resposta da questão 3: C\n",
            "Digite a resposta da questão 4: C\n",
            "Digite a resposta da questão 5: C\n",
            "Digite a resposta da questão 6: D\n",
            "Digite a resposta da questão 7: C\n",
            "Digite a resposta da questão 8: C\n",
            "Digite a resposta da questão 9: A\n",
            "Digite a resposta da questão 10: B\n",
            "A nota do aluno é 8\n"
          ]
        }
      ]
    },
    {
      "cell_type": "markdown",
      "source": [
        "#### Questão 10\n",
        "Um instituto de meteorologia deseja fazer um estudo de temperatura média de cada mês do ano. Para isso, você precisa fazer um código que colete e armazene essas temperaturas médias em uma lista. Depois, calcule a média anual das temperaturas e mostre todas as temperaturas acima da média anual, e em que mês elas ocorreram, mostrando os meses por extenso: Janeiro, Fevereiro, etc."
      ],
      "metadata": {
        "id": "aSBMzh-AMgeF"
      }
    },
    {
      "cell_type": "code",
      "source": [
        "q10_meses = ['Janeiro','Fevereiro','Março','Abril','Maio','Junho','Julho','Agosto','Setembro','Outubro','Novembro','Dezembro']\n",
        "q10_temp_media = []\n",
        "\n",
        "#coleta a temperatura mensal\n",
        "for i in range(len(q10_meses)):\n",
        "  q10_temp = float(input(f'Digite a temperatura média do mês de {q10_meses[i]}: '))\n",
        "  q10_temp_media.append(q10_temp)\n",
        "\n",
        "#calcula a média anual\n",
        "q10_media_anual = sum(q10_temp_media) / len(q10_temp_media)\n",
        "\n",
        "#apresenta as médias acima da média anual\n",
        "print(f'A média anual das temperaturas é {q10_media_anual:.2f}')\n",
        "\n",
        "#apresenta od meses com temperatura acima da media\n",
        "for i in range(len(q10_temp_media)):\n",
        "  if q10_temp_media[i] > q10_media_anual:\n",
        "    print(f'A temperatura média do mês de {q10_meses[i]} ({q10_temp_media[i]}), foi acima da média anual')"
      ],
      "metadata": {
        "id": "ftj04s2uMgeF",
        "colab": {
          "base_uri": "https://localhost:8080/"
        },
        "outputId": "b83de726-2eb9-46e8-eae6-7fd55d9c7778"
      },
      "execution_count": null,
      "outputs": [
        {
          "output_type": "stream",
          "name": "stdout",
          "text": [
            "Digite a temperatura média do mês de Janeiro: 10\n",
            "Digite a temperatura média do mês de Fevereiro: 20\n",
            "Digite a temperatura média do mês de Março: 50\n",
            "Digite a temperatura média do mês de Abril: 30\n",
            "Digite a temperatura média do mês de Maio: 40\n",
            "Digite a temperatura média do mês de Junho: 40\n",
            "Digite a temperatura média do mês de Julho: 20\n",
            "Digite a temperatura média do mês de Agosto: 10\n",
            "Digite a temperatura média do mês de Setembro: 30\n",
            "Digite a temperatura média do mês de Outubro: 40\n",
            "Digite a temperatura média do mês de Novembro: 20\n",
            "Digite a temperatura média do mês de Dezembro: 30\n",
            "A média anual das temperaturas é 28.33\n",
            "A temperatura média do mês de Março (50.0), foi acima da média anual\n",
            "A temperatura média do mês de Abril (30.0), foi acima da média anual\n",
            "A temperatura média do mês de Maio (40.0), foi acima da média anual\n",
            "A temperatura média do mês de Junho (40.0), foi acima da média anual\n",
            "A temperatura média do mês de Setembro (30.0), foi acima da média anual\n",
            "A temperatura média do mês de Outubro (40.0), foi acima da média anual\n",
            "A temperatura média do mês de Dezembro (30.0), foi acima da média anual\n"
          ]
        }
      ]
    },
    {
      "cell_type": "markdown",
      "source": [
        "#### Questão 11\n",
        "Uma empresa de e-commerce está interessada em analisar as vendas dos seus produtos. Os dados das vendas foram armazenados em um dicionário:\n",
        "```\n",
        "{'Produto A': 300, 'Produto B': 80, 'Produto C': 60,\n",
        " 'Produto D': 200, 'Produto E': 250, 'Produto F': 30}\n",
        "```\n",
        "Escreva um código que calcule o total de vendas e o produto mais vendido."
      ],
      "metadata": {
        "id": "0X8S6s4jMgeF"
      }
    },
    {
      "cell_type": "code",
      "source": [
        "q11_dic_vendas = {'Produto A': 300, 'Produto B': 80, 'Produto C': 60, 'Produto D': 200, 'Produto E': 250, 'Produto F': 30}\n",
        "\n",
        "q11_total_vendas = sum(q11_dic_vendas.values())\n",
        "q11_produto_mais_vendido = max(q11_dic_vendas, key=q11_dic_vendas.get)\n",
        "\n",
        "print(f'O total de vendas foi de {q11_total_vendas}')\n",
        "print(f'O produto mais vendido foi {q11_produto_mais_vendido}')"
      ],
      "metadata": {
        "id": "Xa3DJLtFMgeF",
        "colab": {
          "base_uri": "https://localhost:8080/"
        },
        "outputId": "53e540b4-08bc-4f92-9414-37b2f02753ac"
      },
      "execution_count": null,
      "outputs": [
        {
          "output_type": "stream",
          "name": "stdout",
          "text": [
            "O total de vendas foi de 920\n",
            "O produto mais vendido foi Produto A\n"
          ]
        }
      ]
    },
    {
      "cell_type": "markdown",
      "source": [
        "#### Questão 12\n",
        "Uma pesquisa de mercado foi feita para decidir qual design de uma marca infantil mais agrada crianças. A pesquisa foi feita e o votos computados podem ser observados abaixo:\n",
        "```\n",
        "'''\n",
        "Tabela de votos da marca\n",
        "Design 1 - 1334 votos\n",
        "Design 2 - 982 votos\n",
        "Design 3 - 1751 votos\n",
        "Design 4 - 210 votos\n",
        "Design 5 - 1811 votos\n",
        "'''\n",
        "```\n",
        "Adapte os dados fornecidos a você para uma estrutura de dicionário e a partir dele, informe o design vencedor e a porcentagem de votos recebidos.\n"
      ],
      "metadata": {
        "id": "nrEwf_1ZMgeF"
      }
    },
    {
      "cell_type": "code",
      "source": [
        "q12_dic_votos = {'Design 1': 1334, 'Design 2': 982, 'Design 3': 1751, 'Design 4': 210, 'Design 5': 1811}\n",
        "\n",
        "q12_total_votos = sum(q12_dic_votos.values())\n",
        "q12_mais_votado = max(q12_dic_votos, key=q12_dic_votos.get)\n",
        "q12_perc_votos = (q12_dic_votos[q12_mais_votado] / q12_total_votos) * 100\n",
        "\n",
        "print(f'O design vencedor foi o {q12_mais_votado} com {q12_dic_votos[q12_mais_votado]} votos, representando {q12_perc_votos:.2f}% dos votos')"
      ],
      "metadata": {
        "id": "MRPcGR-_MgeF",
        "colab": {
          "base_uri": "https://localhost:8080/"
        },
        "outputId": "f233f336-04f6-4cad-ee9d-c3483b65536d"
      },
      "execution_count": null,
      "outputs": [
        {
          "output_type": "stream",
          "name": "stdout",
          "text": [
            "O design vencedor foi o Design 5 com 1811 votos, representando 29.75% dos votos\n"
          ]
        }
      ]
    },
    {
      "cell_type": "markdown",
      "source": [
        "#### Questão 13\n",
        "Os funcionários de um setor da empresa que você trabalha vão receber um abono correspondente a 10% do seu salário devido ao ótimo desempenho do time. O setor financeiro solicitou sua ajuda para a verificação das consequências financeiras que esse abono irá gerar nos recursos. Assim, foi encaminhada para você uma lista com os salários que receberão o abono: `[1172, 1644, 2617, 5130, 5532, 6341, 6650, 7238, 7685, 7782, 7903]`. O abono de cada funcionário não pode ser inferior a 200. Em código, transforme cada um dos salários em chaves de um dicionário e o abono de cada salário no elemento. Depois, informe o total de gastos com o abono, quantos funcionários receberam o abono mínimo e qual o maior valor de abono fornecido.\n"
      ],
      "metadata": {
        "id": "HRTFFzKIMgeF"
      }
    },
    {
      "cell_type": "code",
      "source": [
        "q13_sal_abono = [1172, 1644, 2617, 5130, 5532, 6341, 6650, 7238, 7685, 7782, 7903]\n",
        "q13_dic_abono = {}\n",
        "q13_total_abono = 0\n",
        "q13_maior_abono = 0\n",
        "q13_qtd_minimo = 0\n",
        "\n",
        "for i in range(len(q13_sal_abono)):\n",
        "  if q13_sal_abono[i] * 0.1 < 200:\n",
        "      q13_dic_abono[q13_sal_abono[i]] = 200.00\n",
        "      q13_qtd_minimo += 1\n",
        "  else:\n",
        "      q13_dic_abono[q13_sal_abono[i]] = round(q13_sal_abono[i] * 0.1,2)\n",
        "\n",
        "q13_total_abono = sum(q13_dic_abono.values())\n",
        "q13_maior_abono = max(q13_dic_abono.values())\n",
        "\n",
        "print(f'O dicionário com os salários e abonos é {q13_dic_abono}')\n",
        "print(f'O total de gastos com o abono é de R$ {q13_total_abono:.2f}')\n",
        "print(f'O maior valor de abono fornecido é de R$ {q13_maior_abono:.2f}')\n",
        "print(f'Foram {q13_qtd_minimo} funcionários que receberam o abono mínimo')"
      ],
      "metadata": {
        "id": "QsDSCua42bLB",
        "colab": {
          "base_uri": "https://localhost:8080/"
        },
        "outputId": "35534276-f6ae-49d8-bec2-0062ceaf7151"
      },
      "execution_count": null,
      "outputs": [
        {
          "output_type": "stream",
          "name": "stdout",
          "text": [
            "O dicionário com os salários e abonos é {1172: 200.0, 1644: 200.0, 2617: 261.7, 5130: 513.0, 5532: 553.2, 6341: 634.1, 6650: 665.0, 7238: 723.8, 7685: 768.5, 7782: 778.2, 7903: 790.3}\n",
            "O total de gastos com o abono é de R$ 6087.80\n",
            "O maior valor de abono fornecido é de R$ 790.30\n",
            "Foram 2 funcionários que receberam o abono mínimo\n"
          ]
        }
      ]
    },
    {
      "cell_type": "markdown",
      "source": [
        "#### Questão 14\n",
        "Uma equipe de cientistas de dados está estudando a diversidade biológica em uma floresta. A equipe fez a coleta de informações sobre o número de espécies de plantas e animais em cada área da floresta e armazenaram essas informações em um dicionário. Nele, a chave descreve a área dos dados e os valores nas listas correspondem às espécies de plantas e animais nas áreas, respectivamente.\n",
        "```\n",
        "{'Área Norte': [2819, 7236],\n",
        " 'Área Leste': [1440, 9492],\n",
        " 'Área Sul': [5969, 7496],\n",
        " 'Área Oeste': [14446, 49688],\n",
        " 'Área Centro': [22558, 45148]}\n",
        "```\n",
        "Escreva um código para calcular a média de espécies por área e identificar a área com a maior diversidade biológica. Dica: use as funções built-in [`sum()`](https://docs.python.org/3/library/functions.html#sum) e [`len()`](https://docs.python.org/3/library/functions.html#len).\n"
      ],
      "metadata": {
        "id": "6dEXZEwjMlWy"
      }
    },
    {
      "cell_type": "code",
      "source": [
        "# dicionário com região, plantas e animais\n",
        "# calcular media de especies por area\n",
        "# identificar area com maior diversidade biologica\n",
        "dados = {'Área Norte': [2819, 7236], 'Área Leste': [1440, 9492], 'Área Sul': [5969, 7496], 'Área Oeste': [14446, 49688], 'Área Centro': [22558, 45148]}\n",
        "# Inicializamos as variáveis\n",
        "medias = {}\n",
        "maior_media = 0\n",
        "area_mais_diversa = \"\"\n",
        "#executa laço para soma das medias\n",
        "for area, especies in dados.items():\n",
        "    media = sum(especies) / len(especies)\n",
        "    medias[area] = media\n",
        "    if media > maior_media:\n",
        "       maior_media = media\n",
        "       area_mais_diversa = area\n",
        "\n",
        "# Exibir médias por área\n",
        "print(\"Média de espécies por área:\")\n",
        "for area, media in medias.items():\n",
        "    print(f\"{area}: {media:.2f}\")\n",
        "\n",
        "# Exibir área com maior diversidade\n",
        "print(f\"\\nÁrea com maior diversidade biológica: {area_mais_diversa} ({maior_media:.2f} espécies em média)\")"
      ],
      "metadata": {
        "id": "eQnOUDfYMlWy",
        "colab": {
          "base_uri": "https://localhost:8080/"
        },
        "outputId": "8852f257-48c0-4075-eb94-2ec14157797e"
      },
      "execution_count": 19,
      "outputs": [
        {
          "output_type": "stream",
          "name": "stdout",
          "text": [
            "Média de espécies por área:\n",
            "Área Norte: 5027.50\n",
            "Área Leste: 5466.00\n",
            "Área Sul: 6732.50\n",
            "Área Oeste: 32067.00\n",
            "Área Centro: 33853.00\n",
            "\n",
            "Área com maior diversidade biológica: Área Centro (33853.00 espécies em média)\n"
          ]
        }
      ]
    },
    {
      "cell_type": "markdown",
      "source": [
        "#### Questão 15\n",
        "O setor de RH da sua empresa te pediu uma ajuda para analisar as idades dos funcionários de 4 setores da empresa. Para isso, ele te forneceu os seguintes dados:\n",
        "```\n",
        "{'Setor A': [22, 26, 30, 30, 35, 38, 40, 56, 57, 65],\n",
        " 'Setor B': [22, 24, 26, 33, 41, 49, 50, 54, 60, 64],\n",
        " 'Setor C': [23, 26, 26, 29, 34, 35, 36, 41, 52, 56],\n",
        " 'Setor D': [19, 20, 25, 27, 34, 39, 42, 44, 50, 65]}\n",
        "```\n",
        "Sabendo que cada setor tem 10 funcionários, construa um código que calcule a média de idade de cada setor, a idade média geral entre todos os setores e quantas pessoas estão acima da idade média geral.\n"
      ],
      "metadata": {
        "id": "r0RW2Sy_MlWy"
      }
    },
    {
      "cell_type": "code",
      "source": [
        "dados_setores = {'Setor A': [22, 26, 30, 30, 35, 38, 40, 56, 57, 65],\n",
        "                 'Setor B': [22, 24, 26, 33, 41, 49, 50, 54, 60, 64],\n",
        "                 'Setor C': [23, 26, 26, 29, 34, 35, 36, 41, 52, 56],\n",
        "                 'Setor D': [19, 20, 25, 27, 34, 39, 42, 44, 50, 65]}\n",
        "\n",
        "#inicializa variaveis\n",
        "media_setor = 0\n",
        "media_geral = 0\n",
        "#calcula e imprime a media das idades por setor\n",
        "for setor, idades in dados_setores.items():\n",
        "    media_setor = sum(idades) / len(idades)\n",
        "    #soma na media geral\n",
        "    media_geral += media_setor\n",
        "    #imprime resultado por setor\n",
        "    print(f\"Média de idade do {setor}: {media_setor:.2f}\")\n",
        "#calcula media geral\n",
        "media_geral /= len(dados_setores)\n",
        "#imprime media geral\n",
        "print(f\"Média de idade geral entre os setores: {media_geral:.2f}\")\n",
        "#verifica quantos funcionarios com idade acima da media\n",
        "qtd_acima_media = 0\n",
        "for setor, idades in dados_setores.items():\n",
        "    for idade in idades:\n",
        "        if idade > media_geral:\n",
        "           qtd_acima_media += 1\n",
        "#imprime quamtidade acima da media de idades\n",
        "print(f\"Quantidade de funcionários com idade acima da média geral: {qtd_acima_media}\")"
      ],
      "metadata": {
        "colab": {
          "base_uri": "https://localhost:8080/"
        },
        "id": "hP6mllyqKEma",
        "outputId": "12b935ba-9bd6-4407-dce0-6df828dbc59a"
      },
      "execution_count": 18,
      "outputs": [
        {
          "output_type": "stream",
          "name": "stdout",
          "text": [
            "Média de idade do Setor A: 39.90\n",
            "Média de idade do Setor B: 42.30\n",
            "Média de idade do Setor C: 35.80\n",
            "Média de idade do Setor D: 36.50\n",
            "Média de idade geral entre os setores: 38.62\n",
            "Quantidade de funcionários com idade acima da média geral: 18\n"
          ]
        }
      ]
    }
  ]
}